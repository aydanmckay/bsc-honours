{
 "cells": [
  {
   "cell_type": "code",
   "execution_count": 1,
   "id": "f5104705-272a-432a-b104-f155dd2ef799",
   "metadata": {},
   "outputs": [],
   "source": [
    "import pymde\n",
    "import pandas as pd\n",
    "import numpy as np\n",
    "# import umap\n",
    "from sklearn.preprocessing import StandardScaler\n",
    "# import matplotlib.pyplot as plt\n",
    "import vaex\n",
    "# vaex.multithreading.thread_count_default = 8\n",
    "# import vaex.ml"
   ]
  },
  {
   "cell_type": "code",
   "execution_count": 2,
   "id": "41fa708f-5a50-4e82-9a25-eae23f0ca73f",
   "metadata": {},
   "outputs": [
    {
     "data": {
      "text/plain": [
       "STAR      79150\n",
       "QSO       75940\n",
       "GALAXY    65401\n",
       "Name: CLASS_s, dtype: int64"
      ]
     },
     "execution_count": 2,
     "metadata": {},
     "output_type": "execute_result"
    }
   ],
   "source": [
    "sdss = pd.read_csv('/arc/home/aydanmckay/leftjoinpristinespecobjmilliquas.csv',\n",
    "                   usecols=[\"CaHK_0_p\",\"pmra_1_p\",\"pmdec_1_p\",\"g_chp_psf_p\",\"r_chp_psf_p\",\"i_chp_psf_p\",\"z_chp_psf_p\",\"y_chp_psf_p\",\"MAG_AUTO_p\",\n",
    "                            \"phot_g_mean_mag_1_p\",\"phot_bp_mean_mag_1_p\",\"phot_rp_mean_mag_1_p\",\"CLASS_s\",\"RA_q\"])\n",
    "sdss.CLASS_s.value_counts()"
   ]
  },
  {
   "cell_type": "code",
   "execution_count": 3,
   "id": "4cb36649-aab8-47a1-a620-a0f6c5c1bb74",
   "metadata": {},
   "outputs": [
    {
     "data": {
      "text/plain": [
       "STAR      74165\n",
       "GALAXY     9847\n",
       "QSO         814\n",
       "Name: CLASS_s, dtype: int64"
      ]
     },
     "execution_count": 3,
     "metadata": {},
     "output_type": "execute_result"
    }
   ],
   "source": [
    "sdss = sdss.loc[(sdss[\"g_chp_psf_p\"] < 1e19) & (sdss[\"r_chp_psf_p\"] < 1e19) & (sdss[\"i_chp_psf_p\"] < 1e19) & \\\n",
    "                        (sdss[\"z_chp_psf_p\"] < 1e19) & (sdss[\"y_chp_psf_p\"] < 1e19) & (sdss[\"MAG_AUTO_p\"] < 95) & \\\n",
    "                        (np.isnan(sdss[\"pmra_1_p\"]) == False) & (np.isnan(sdss[\"pmdec_1_p\"]) == False) & \\\n",
    "                        (np.isnan(sdss[\"phot_g_mean_mag_1_p\"]) == False) & (np.isnan(sdss[\"phot_bp_mean_mag_1_p\"]) == False) & \\\n",
    "                        (np.isnan(sdss[\"phot_rp_mean_mag_1_p\"]) == False) & (np.isnan(sdss['RA_q']) == True)]\n",
    "sdss.CLASS_s.value_counts()"
   ]
  },
  {
   "cell_type": "code",
   "execution_count": 4,
   "id": "8ff4b827-4b28-4cb1-a248-0db0313ba43e",
   "metadata": {},
   "outputs": [],
   "source": [
    "sdss = sdss.replace({'CLASS_s':np.nan}, -1)\n",
    "sdss = sdss.replace({'CLASS_s':'STAR'}, 1)\n",
    "sdss = sdss.replace({'CLASS_s':'GALAXY'}, 2)\n",
    "sdss = sdss.replace({'CLASS_s':'QSO'}, 3)"
   ]
  },
  {
   "cell_type": "code",
   "execution_count": 5,
   "id": "b10f46db-1f51-40e8-aeef-6fce0f26a47c",
   "metadata": {},
   "outputs": [],
   "source": [
    "df_joined = vaex.from_pandas(pd.DataFrame({'PMRA': sdss['pmra_1_p'],\n",
    "                   'PMDec': sdss['pmdec_1_p'],\n",
    "                   'G_gaia': sdss[\"CaHK_0_p\"]-sdss['phot_g_mean_mag_1_p'],\n",
    "                   'B_gaia': sdss[\"CaHK_0_p\"]-sdss['phot_bp_mean_mag_1_p'],\n",
    "                   'R_gaia': sdss[\"CaHK_0_p\"]-sdss['phot_rp_mean_mag_1_p'],\n",
    "                   'G_pan': sdss[\"CaHK_0_p\"]-sdss['g_chp_psf_p'],\n",
    "                   'R_pan': sdss[\"CaHK_0_p\"]-sdss['r_chp_psf_p'],\n",
    "                   'I_pan': sdss[\"CaHK_0_p\"]-sdss['i_chp_psf_p'],\n",
    "                   'Z_pan': sdss[\"CaHK_0_p\"]-sdss['z_chp_psf_p'],\n",
    "                   'Y_pan': sdss[\"CaHK_0_p\"]-sdss['y_chp_psf_p'],\n",
    "                   'AUTO_cfis': sdss[\"CaHK_0_p\"]-sdss['MAG_AUTO_p']},\n",
    "                   index=np.arange(0,len(sdss))))\n",
    "df2 = pd.DataFrame({'Class': sdss['CLASS_s']}, index = np.arange(0,len(sdss)))"
   ]
  },
  {
   "cell_type": "code",
   "execution_count": 6,
   "id": "a861b409-7fd2-4fdc-a8a8-c3ceb65e0878",
   "metadata": {},
   "outputs": [
    {
     "name": "stdout",
     "output_type": "stream",
     "text": [
      "(3649568, 11)\n",
      "(3254179, 11)\n",
      "(3649568, 1)\n",
      "(3254179, 1)\n"
     ]
    }
   ],
   "source": [
    "print(df_joined.shape)\n",
    "df_joined = df_joined.dropna()\n",
    "print(df_joined.shape)\n",
    "print(df2.shape)\n",
    "df2 = df2.dropna()\n",
    "print(df2.shape)"
   ]
  },
  {
   "cell_type": "code",
   "execution_count": 7,
   "id": "25006fcf-e0a4-43fd-91d6-36ffa93b74e1",
   "metadata": {},
   "outputs": [],
   "source": [
    "scaled_star_data = StandardScaler().fit_transform(df_joined)"
   ]
  },
  {
   "cell_type": "code",
   "execution_count": 8,
   "id": "d9ed6ae6-91b0-4669-99db-b9eb92459572",
   "metadata": {},
   "outputs": [
    {
     "data": {
      "text/plain": [
       "(3254179, 11)"
      ]
     },
     "execution_count": 8,
     "metadata": {},
     "output_type": "execute_result"
    }
   ],
   "source": [
    "scaled_star_data.shape"
   ]
  },
  {
   "cell_type": "code",
   "execution_count": 9,
   "id": "5e9421c8-8035-41ba-994e-474d51ee236a",
   "metadata": {},
   "outputs": [
    {
     "name": "stdout",
     "output_type": "stream",
     "text": [
      "Jan 24 02:19:19 AM: Computing 15-nearest neighbors, with max_distance=None\n",
      "Mon Jan 24 02:19:20 2022 Building RP forest with 32 trees\n",
      "Mon Jan 24 02:20:00 2022 NN descent for 22 iterations\n",
      "\t 1  /  22\n",
      "\t 2  /  22\n",
      "\t 3  /  22\n",
      "\tStopping threshold met -- exiting after 3 iterations\n",
      "Jan 24 02:24:12 AM: Computing quadratic initialization.\n"
     ]
    },
    {
     "data": {
      "text/plain": [
       "<AxesSubplot:>"
      ]
     },
     "execution_count": 9,
     "metadata": {},
     "output_type": "execute_result"
    },
    {
     "data": {
      "image/png": "[encoded data removed]",
      "text/plain": [
       "<Figure size 576x576 with 2 Axes>"
      ]
     },
     "metadata": {
      "needs_background": "light"
     },
     "output_type": "display_data"
    }
   ],
   "source": [
    "# mnist = pymde.datasets.MNIST()\n",
    "# embedding = pymde.preserve_neighbors(mnist.data, embedding_dim=2, verbose=True).embed()\n",
    "df2cmap = df2.replace(-1,0)\n",
    "embedding = pymde.preserve_neighbors(scaled_star_data, embedding_dim=2, verbose=True).embed()\n",
    "pymde.plot(embedding, color_by=df2cmap['Class'])"
   ]
  },
  {
   "cell_type": "code",
   "execution_count": 10,
   "id": "ed03b6c8-04ab-4fd5-993b-8b86bd534b6e",
   "metadata": {},
   "outputs": [],
   "source": [
    "# mnist.data.shape"
   ]
  },
  {
   "cell_type": "code",
   "execution_count": null,
   "id": "9b12ee7e-09df-463f-a164-ad90ddc7f666",
   "metadata": {},
   "outputs": [],
   "source": []
  }
 ],
 "metadata": {
  "kernelspec": {
   "display_name": "Python 3 (ipykernel)",
   "language": "python",
   "name": "python3"
  },
  "language_info": {
   "codemirror_mode": {
    "name": "ipython",
    "version": 3
   },
   "file_extension": ".py",
   "mimetype": "text/x-python",
   "name": "python",
   "nbconvert_exporter": "python",
   "pygments_lexer": "ipython3",
   "version": "3.8.12"
  }
 },
 "nbformat": 4,
 "nbformat_minor": 5
}
