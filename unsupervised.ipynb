{
 "cells": [
  {
   "cell_type": "code",
   "execution_count": 1,
   "id": "574551d0-3b3e-44a5-a1ba-9e61f11b5cd4",
   "metadata": {},
   "outputs": [],
   "source": [
    "import pandas as pd\n",
    "import numpy as np\n",
    "import umap\n",
    "from sklearn.preprocessing import StandardScaler\n",
    "import matplotlib.pyplot as plt\n",
    "import vaex\n",
    "vaex.multithreading.thread_count_default = 8\n",
    "import vaex.ml\n",
    "import pickle"
   ]
  },
  {
   "cell_type": "code",
   "execution_count": 2,
   "id": "e1d039c0-4ccb-4ba9-9479-a660ceed0e03",
   "metadata": {},
   "outputs": [],
   "source": [
    "pristine = pd.read_parquet('/arc/projects/k-pop/pristine/Pristine_CFIS.parquet',\n",
    "                           columns=[\"CaHK_0\",\"pmra_1\",\"pmdec_1\",\"pmra_error_1\",\"pmdec_error_1\",\"g_chp_psf\",\"r_chp_psf\",\"i_chp_psf\",\"z_chp_psf\",\"y_chp_psf\",\"MAG_AUTO\",\n",
    "                                    \"phot_g_mean_mag_1\",\"phot_bp_mean_mag_1\",\"phot_rp_mean_mag_1\"])"
   ]
  },
  {
   "cell_type": "code",
   "execution_count": 3,
   "id": "43a930d2-db2f-4434-9d32-7a8f2d0e7a6f",
   "metadata": {},
   "outputs": [],
   "source": [
    "pristine = pristine.loc[(pristine[\"g_chp_psf\"] < 1e19) & (pristine[\"r_chp_psf\"] < 1e19) & (pristine[\"i_chp_psf\"] < 1e19) & \\\n",
    "                        (pristine[\"z_chp_psf\"] < 1e19) & (pristine[\"y_chp_psf\"] < 1e19) & (pristine[\"MAG_AUTO\"] < 95) & \\\n",
    "                        (np.isnan(pristine[\"phot_g_mean_mag_1\"]) == False) & (np.isnan(pristine[\"phot_bp_mean_mag_1\"]) == False) & \\\n",
    "                        (np.isnan(pristine[\"pmra_1\"]) == False) & (np.isnan(pristine[\"pmdec_1\"]) == False) & \\\n",
    "                        (np.isnan(pristine[\"pmra_error_1\"]) == False) & (np.isnan(pristine[\"pmdec_error_1\"]) == False) & \\\n",
    "                        (np.isnan(pristine[\"phot_rp_mean_mag_1\"]) == False)]"
   ]
  },
  {
   "cell_type": "code",
   "execution_count": 4,
   "id": "b531f3fa-ad89-4978-933c-3a40c1adbbd3",
   "metadata": {},
   "outputs": [],
   "source": [
    "df = vaex.from_pandas(pd.DataFrame({'PMRA': pristine['pmra_1'],\n",
    "                   'PMDec': pristine['pmdec_1'],\n",
    "                   'PMRAerr': pristine['pmra_error_1'],\n",
    "                   'PMDecerr': pristine['pmdec_error_1'],\n",
    "                   'G_gaia': pristine['CaHK_0']-pristine['phot_g_mean_mag_1'],\n",
    "                   'B_gaia': pristine['CaHK_0']-pristine['phot_bp_mean_mag_1'],\n",
    "                   'R_gaia': pristine['CaHK_0']-pristine['phot_rp_mean_mag_1'],\n",
    "                   'G_pan': pristine['CaHK_0']-pristine['g_chp_psf'],\n",
    "                   'R_pan': pristine['CaHK_0']-pristine['r_chp_psf'],\n",
    "                   'I_pan': pristine['CaHK_0']-pristine['i_chp_psf'],\n",
    "                   'Z_pan': pristine['CaHK_0']-pristine['z_chp_psf'],\n",
    "                   'Y_pan': pristine['CaHK_0']-pristine['y_chp_psf'],\n",
    "                   'AUTO_cfis': pristine['CaHK_0']-pristine['MAG_AUTO']}))\n",
    "\n",
    "# df2 = vaex.from_pandas(pd.DataFrame({'Fe/H': pristine['FEH_ADOP']}, index = np.arange(0,len(pristine))))"
   ]
  },
  {
   "cell_type": "code",
   "execution_count": 5,
   "id": "1b6ffd31-6444-4213-ad82-be8000a250fb",
   "metadata": {},
   "outputs": [
    {
     "name": "stdout",
     "output_type": "stream",
     "text": [
      "(3718245, 13)\n",
      "(3718245, 13)\n"
     ]
    }
   ],
   "source": [
    "print(df.shape)\n",
    "data = df.dropna()\n",
    "print(data.shape)"
   ]
  },
  {
   "cell_type": "code",
   "execution_count": 6,
   "id": "3ec0877c-c2ff-4b71-9fd3-0b205851a2e4",
   "metadata": {},
   "outputs": [],
   "source": [
    "reducer = umap.UMAP(random_state=69,verbose=True)"
   ]
  },
  {
   "cell_type": "code",
   "execution_count": 7,
   "id": "c00dbc7d-ac4e-4f59-abbf-2dd55d1d545e",
   "metadata": {},
   "outputs": [],
   "source": [
    "scaled_star_data = StandardScaler().fit_transform(data)"
   ]
  },
  {
   "cell_type": "code",
   "execution_count": 8,
   "id": "26ab480b-398f-4cfd-927b-fd6329472e47",
   "metadata": {},
   "outputs": [
    {
     "name": "stdout",
     "output_type": "stream",
     "text": [
      "UMAP(random_state=69, verbose=True)\n",
      "Mon Feb 28 02:10:41 2022 Construct fuzzy simplicial set\n",
      "Mon Feb 28 02:10:41 2022 Finding Nearest Neighbors\n",
      "Mon Feb 28 02:10:41 2022 Building RP forest with 64 trees\n",
      "Mon Feb 28 02:11:23 2022 NN descent for 22 iterations\n",
      "\t 1  /  22\n",
      "\t 2  /  22\n",
      "\tStopping threshold met -- exiting after 2 iterations\n",
      "Mon Feb 28 02:15:34 2022 Finished Nearest Neighbor Search\n",
      "Mon Feb 28 02:16:07 2022 Construct embedding\n"
     ]
    },
    {
     "data": {
      "application/vnd.jupyter.widget-view+json": {
       "model_id": "71438370a70540afb3c73c19e3a67069",
       "version_major": 2,
       "version_minor": 0
      },
      "text/plain": [
       "Epochs completed:   0%|            0/200 [00:00]"
      ]
     },
     "metadata": {},
     "output_type": "display_data"
    },
    {
     "name": "stdout",
     "output_type": "stream",
     "text": [
      "Mon Feb 28 03:18:03 2022 Finished embedding\n"
     ]
    },
    {
     "data": {
      "text/plain": [
       "UMAP(random_state=69, verbose=True)"
      ]
     },
     "execution_count": 8,
     "metadata": {},
     "output_type": "execute_result"
    }
   ],
   "source": [
    "reducer.fit(scaled_star_data)"
   ]
  },
  {
   "cell_type": "code",
   "execution_count": 9,
   "id": "e18bd894-f272-452c-beaf-a1641d9d9e08",
   "metadata": {},
   "outputs": [],
   "source": [
    "# sspp = pd.read_csv('/arc/home/aydanmckay/leftjoinpristinesspp.csv',\n",
    "#                    usecols=[\"CaHK_0_p\",\"pmra_1_p\",\"pmdec_1_p\",\"g_chp_psf_p\",\"r_chp_psf_p\",\"i_chp_psf_p\",\"z_chp_psf_p\",\"y_chp_psf_p\",\"MAG_AUTO_p\",\n",
    "#                             \"phot_g_mean_mag_1_p\",\"phot_bp_mean_mag_1_p\",\"phot_rp_mean_mag_1_p\",\"AFE_s\",\"FEH_ADOP_s\",\"TEFF_ADOP_s\",\"LOGG_ADOP_s\"])\n",
    "# sspp = sspp.loc[(sspp[\"g_chp_psf_p\"] < 1e19) & (sspp[\"r_chp_psf_p\"] < 1e19) & (sspp[\"i_chp_psf_p\"] < 1e19) & \\\n",
    "#                         (sspp[\"z_chp_psf_p\"] < 1e19) & (sspp[\"y_chp_psf_p\"] < 1e19) & (sspp[\"MAG_AUTO_p\"] < 95) & \\\n",
    "#                         (np.isnan(sspp[\"phot_g_mean_mag_1_p\"]) == False) & (np.isnan(sspp[\"phot_bp_mean_mag_1_p\"]) == False) & \\\n",
    "#                         (np.isnan(sspp[\"pmra_1_p\"]) == False) & (np.isnan(sspp[\"pmdec_1_p\"]) == False) & \\\n",
    "#                         (np.isnan(sspp[\"phot_rp_mean_mag_1_p\"]) == False)]\n",
    "# sspp = sspp.replace({'AFE_s': np.nan}, -90)\n",
    "# sspp = sspp.replace({'FEH_ADOP_s': np.nan}, -90)\n",
    "# df_joined_fe = vaex.from_pandas(pd.DataFrame({'PMRA': sspp['pmra_1_p'],\n",
    "#                       'PMDec': sspp['pmdec_1_p'],\n",
    "#                       'G_gaia': sspp[\"CaHK_0_p\"]-sspp['phot_g_mean_mag_1_p'],\n",
    "#                       'B_gaia': sspp[\"CaHK_0_p\"]-sspp['phot_bp_mean_mag_1_p'],\n",
    "#                       'R_gaia': sspp[\"CaHK_0_p\"]-sspp['phot_rp_mean_mag_1_p'],\n",
    "#                       'G_pan': sspp[\"CaHK_0_p\"]-sspp['g_chp_psf_p'],\n",
    "#                       'R_pan': sspp[\"CaHK_0_p\"]-sspp['r_chp_psf_p'],\n",
    "#                       'I_pan': sspp[\"CaHK_0_p\"]-sspp['i_chp_psf_p'],\n",
    "#                       'Z_pan': sspp[\"CaHK_0_p\"]-sspp['z_chp_psf_p'],\n",
    "#                       'Y_pan': sspp[\"CaHK_0_p\"]-sspp['y_chp_psf_p'],\n",
    "#                       'AUTO_cfis': sspp[\"CaHK_0_p\"]-sspp['MAG_AUTO_p']},\n",
    "#                       index=np.arange(0,len(sspp))))\n",
    "# df2_afe = pd.DataFrame({'a/Fe': sspp['AFE_s']}, index = np.arange(0,len(sspp)))\n",
    "# df2_feh = pd.DataFrame({'Fe/H': sspp['FEH_ADOP_s']}, index = np.arange(0,len(sspp)))\n",
    "# df2_logg = pd.DataFrame({'logg': sspp['LOGG_ADOP_s']}, index = np.arange(0,len(sspp)))\n",
    "# df2_teff = pd.DataFrame({'Teff': sspp['TEFF_ADOP_s']}, index = np.arange(0,len(sspp)))\n",
    "# print(df_joined_fe.shape)\n",
    "# df_joined_fe = df_joined_fe.dropna()\n",
    "# print(df_joined_fe.shape)\n",
    "# print(df2_afe.shape)\n",
    "# df2_afe = df2_afe.dropna()\n",
    "# print(df2_afe.shape)\n",
    "# print(df2_feh.shape)\n",
    "# df2_feh = df2_feh.dropna()\n",
    "# print(df2_feh.shape)\n",
    "# print(df2_logg.shape)\n",
    "# df2_logg = df2_logg.dropna()\n",
    "# print(df2_logg.shape)\n",
    "# print(df2_teff.shape)\n",
    "# df2_teff = df2_teff.dropna()\n",
    "# print(df2_teff.shape)"
   ]
  },
  {
   "cell_type": "code",
   "execution_count": 10,
   "id": "dc210e97-c9d5-422f-ada5-d3ebe38355bb",
   "metadata": {},
   "outputs": [],
   "source": [
    "# %%time\n",
    "# scaled_star_data_joined_fe = StandardScaler().fit_transform(df_joined_fe)\n",
    "# embedding_joined_fe = reducer.transform(scaled_star_data_joined_fe)"
   ]
  },
  {
   "cell_type": "code",
   "execution_count": 11,
   "id": "4bb350fa-16c9-4c3e-afea-5647d3c9e653",
   "metadata": {},
   "outputs": [],
   "source": [
    "# mask_feh = df2_feh['Fe/H'] > -9\n",
    "# plt.figure(figsize=(12,12))\n",
    "# plt.scatter(embedding[:, 0], embedding[:, 1], c='k', alpha=0.1, s=5)\n",
    "# plt.scatter(embedding_joined_fe[:, 0][mask_feh], embedding_joined_fe[:, 1][mask_feh],c=df2_feh['Fe/H'][mask_feh], cmap='Spectral', s=5)\n",
    "# plt.gca().set_aspect('equal', 'datalim')\n",
    "# plt.colorbar()\n",
    "# plt.title(\"SDSS DR17 Catalogue Left Joined onto Pristine Dataset, Coloured by SEGUE Fe/H\")\n",
    "# plt.savefig('/arc/home/aydanmckay/pmssppmappedtopristinecoloursoverplot.png')"
   ]
  },
  {
   "cell_type": "code",
   "execution_count": 12,
   "id": "d6e2c6f1-f0e1-46d7-87a5-66940e50158b",
   "metadata": {},
   "outputs": [],
   "source": [
    "# sm_ll_feh = []\n",
    "# sm_ll_logg = []\n",
    "# sm_ll_teff = []\n",
    "# for x,y,feh,logg,teff in zip(embedding_joined_fe[:, 0][mask_feh],embedding_joined_fe[:, 1][mask_feh],\n",
    "#                              df2_feh['Fe/H'][mask_feh],df2_logg['logg'][mask_feh],df2_teff['Teff'][mask_feh]):\n",
    "#     if x < -1 and y < -1:\n",
    "#         sm_ll_feh.append(feh)\n",
    "#         sm_ll_logg.append(logg)\n",
    "#         sm_ll_teff.append(teff)"
   ]
  },
  {
   "cell_type": "code",
   "execution_count": 13,
   "id": "4d83d181-6513-43aa-9423-0c706d23e2d2",
   "metadata": {},
   "outputs": [],
   "source": [
    "# plt.scatter(sm_ll_teff,sm_ll_logg)\n",
    "# plt.title('Effective Temperature vs. logg on the Small Low Metallicity Blob')\n",
    "# plt.xlabel('Effective temperature')\n",
    "# plt.ylabel('logg')\n",
    "# plt.grid()\n",
    "# plt.savefig('/arc/home/aydanmckay/teffloggblob.png')"
   ]
  },
  {
   "cell_type": "code",
   "execution_count": 14,
   "id": "dcf4cd6d-b737-4234-9610-34c7e1818b5e",
   "metadata": {},
   "outputs": [],
   "source": [
    "# plt.scatter(sm_ll_logg,sm_ll_feh)\n",
    "# plt.title('logg vs. Metallicity on the Small Low Metallicity Blob')\n",
    "# plt.ylabel('Metallicity')\n",
    "# plt.xlabel('logg')\n",
    "# plt.grid()\n",
    "# plt.savefig('/arc/home/aydanmckay/loggfehblob.png')"
   ]
  },
  {
   "cell_type": "code",
   "execution_count": 15,
   "id": "111b02b1-006a-4811-bb66-1a6a2dfb9dea",
   "metadata": {},
   "outputs": [],
   "source": [
    "# %%time\n",
    "# redu = pickle.dumps(reducer)\n",
    "# filename = 'unsupervisedbetterpickle.obj'\n",
    "\n",
    "# with open(filename,'wb') as file_object:\n",
    "#     file_object.write(redu)\n",
    "\n",
    "# # with open(filename,'rb') as file_object:\n",
    "# #     raw_data = file_object.read()\n",
    "\n",
    "# # redu2 = pickle.loads(raw_data)"
   ]
  },
  {
   "cell_type": "code",
   "execution_count": 16,
   "id": "4a75082a-ba66-48b2-a099-c2cc436a3ae4",
   "metadata": {},
   "outputs": [],
   "source": [
    "embedding = reducer.transform(scaled_star_data)"
   ]
  },
  {
   "cell_type": "code",
   "execution_count": 17,
   "id": "08915baf-f4a5-447b-913a-d499daa1dcd2",
   "metadata": {},
   "outputs": [
    {
     "data": {
      "image/png": "[encoded data removed]",
      "text/plain": [
       "<Figure size 864x864 with 2 Axes>"
      ]
     },
     "metadata": {
      "needs_background": "light"
     },
     "output_type": "display_data"
    }
   ],
   "source": [
    "plt.figure(figsize=(12,12))\n",
    "plt.scatter(embedding[:, 0], embedding[:, 1], cmap='hsv', s=5)\n",
    "plt.gca().set_aspect('equal', 'datalim')\n",
    "plt.colorbar()\n",
    "plt.savefig('/arc/home/aydanmckay/bigdatapristinecolourshsv.png')"
   ]
  },
  {
   "cell_type": "code",
   "execution_count": 18,
   "id": "ed2e12c0-c39a-4136-8b0f-a92a8739247c",
   "metadata": {},
   "outputs": [],
   "source": [
    "sdss = pd.read_csv('/arc/home/aydanmckay/leftjoinpristinespecobj.csv',\n",
    "                   usecols=[\"CaHK_0_p\",\"pmra_1_p\",\"pmdec_1_p\",\"g_chp_psf_p\",\"r_chp_psf_p\",\"i_chp_psf_p\",\"z_chp_psf_p\",\"y_chp_psf_p\",\"MAG_AUTO_p\",\n",
    "                            \"phot_g_mean_mag_1_p\",\"phot_bp_mean_mag_1_p\",\"phot_rp_mean_mag_1_p\",\"CLASS_s\"])\n",
    "# sspp = pd.read_csv('/arc/home/aydanmckay/leftjoinpristinesspp.csv',\n",
    "#                    usecols=[\"CaHK_0_p\",\"pmra_1_p\",\"pmdec_1_p\",\"g_chp_psf_p\",\"r_chp_psf_p\",\"i_chp_psf_p\",\"z_chp_psf_p\",\"y_chp_psf_p\",\"MAG_AUTO_p\",\n",
    "#                             \"phot_g_mean_mag_1_p\",\"phot_bp_mean_mag_1_p\",\"phot_rp_mean_mag_1_p\",\"AFE_s\",\"FEH_ADOP_s\"])"
   ]
  },
  {
   "cell_type": "code",
   "execution_count": 19,
   "id": "714fc53e-de79-4739-bb79-44bc176db255",
   "metadata": {},
   "outputs": [
    {
     "data": {
      "text/html": [
       "<div>\n",
       "<style scoped>\n",
       "    .dataframe tbody tr th:only-of-type {\n",
       "        vertical-align: middle;\n",
       "    }\n",
       "\n",
       "    .dataframe tbody tr th {\n",
       "        vertical-align: top;\n",
       "    }\n",
       "\n",
       "    .dataframe thead th {\n",
       "        text-align: right;\n",
       "    }\n",
       "</style>\n",
       "<table border=\"1\" class=\"dataframe\">\n",
       "  <thead>\n",
       "    <tr style=\"text-align: right;\">\n",
       "      <th></th>\n",
       "      <th>CaHK_0_p</th>\n",
       "      <th>pmra_1_p</th>\n",
       "      <th>pmdec_1_p</th>\n",
       "      <th>phot_g_mean_mag_1_p</th>\n",
       "      <th>phot_bp_mean_mag_1_p</th>\n",
       "      <th>phot_rp_mean_mag_1_p</th>\n",
       "      <th>g_chp_psf_p</th>\n",
       "      <th>r_chp_psf_p</th>\n",
       "      <th>i_chp_psf_p</th>\n",
       "      <th>z_chp_psf_p</th>\n",
       "      <th>y_chp_psf_p</th>\n",
       "      <th>MAG_AUTO_p</th>\n",
       "      <th>CLASS_s</th>\n",
       "    </tr>\n",
       "  </thead>\n",
       "  <tbody>\n",
       "    <tr>\n",
       "      <th>0</th>\n",
       "      <td>21.972</td>\n",
       "      <td>-0.416</td>\n",
       "      <td>-8.462</td>\n",
       "      <td>13.833454</td>\n",
       "      <td>14.202310</td>\n",
       "      <td>13.300272</td>\n",
       "      <td>14.255604</td>\n",
       "      <td>13.802833</td>\n",
       "      <td>13.653096</td>\n",
       "      <td>13.630348</td>\n",
       "      <td>1.358774e+01</td>\n",
       "      <td>15.705700</td>\n",
       "      <td>NaN</td>\n",
       "    </tr>\n",
       "    <tr>\n",
       "      <th>1</th>\n",
       "      <td>25.296</td>\n",
       "      <td>-0.102</td>\n",
       "      <td>-13.107</td>\n",
       "      <td>17.743600</td>\n",
       "      <td>18.087147</td>\n",
       "      <td>17.302958</td>\n",
       "      <td>18.060312</td>\n",
       "      <td>17.742205</td>\n",
       "      <td>17.621430</td>\n",
       "      <td>17.599453</td>\n",
       "      <td>1.757736e+01</td>\n",
       "      <td>18.974701</td>\n",
       "      <td>NaN</td>\n",
       "    </tr>\n",
       "    <tr>\n",
       "      <th>2</th>\n",
       "      <td>25.864</td>\n",
       "      <td>-6.181</td>\n",
       "      <td>-2.274</td>\n",
       "      <td>16.413301</td>\n",
       "      <td>17.041140</td>\n",
       "      <td>15.655658</td>\n",
       "      <td>17.248518</td>\n",
       "      <td>16.378054</td>\n",
       "      <td>16.022442</td>\n",
       "      <td>15.873168</td>\n",
       "      <td>1.576375e+01</td>\n",
       "      <td>19.656700</td>\n",
       "      <td>NaN</td>\n",
       "    </tr>\n",
       "    <tr>\n",
       "      <th>3</th>\n",
       "      <td>26.582</td>\n",
       "      <td>1.104</td>\n",
       "      <td>-6.515</td>\n",
       "      <td>19.234087</td>\n",
       "      <td>19.529345</td>\n",
       "      <td>18.795353</td>\n",
       "      <td>19.505856</td>\n",
       "      <td>19.224485</td>\n",
       "      <td>19.112057</td>\n",
       "      <td>19.110556</td>\n",
       "      <td>1.906391e+01</td>\n",
       "      <td>20.396700</td>\n",
       "      <td>NaN</td>\n",
       "    </tr>\n",
       "    <tr>\n",
       "      <th>4</th>\n",
       "      <td>27.892</td>\n",
       "      <td>NaN</td>\n",
       "      <td>NaN</td>\n",
       "      <td>21.115057</td>\n",
       "      <td>21.349903</td>\n",
       "      <td>20.607525</td>\n",
       "      <td>21.569519</td>\n",
       "      <td>21.110239</td>\n",
       "      <td>20.966051</td>\n",
       "      <td>20.918962</td>\n",
       "      <td>1.000000e+20</td>\n",
       "      <td>20.993000</td>\n",
       "      <td>NaN</td>\n",
       "    </tr>\n",
       "  </tbody>\n",
       "</table>\n",
       "</div>"
      ],
      "text/plain": [
       "   CaHK_0_p  pmra_1_p  pmdec_1_p  phot_g_mean_mag_1_p  phot_bp_mean_mag_1_p  \\\n",
       "0    21.972    -0.416     -8.462            13.833454             14.202310   \n",
       "1    25.296    -0.102    -13.107            17.743600             18.087147   \n",
       "2    25.864    -6.181     -2.274            16.413301             17.041140   \n",
       "3    26.582     1.104     -6.515            19.234087             19.529345   \n",
       "4    27.892       NaN        NaN            21.115057             21.349903   \n",
       "\n",
       "   phot_rp_mean_mag_1_p  g_chp_psf_p  r_chp_psf_p  i_chp_psf_p  z_chp_psf_p  \\\n",
       "0             13.300272    14.255604    13.802833    13.653096    13.630348   \n",
       "1             17.302958    18.060312    17.742205    17.621430    17.599453   \n",
       "2             15.655658    17.248518    16.378054    16.022442    15.873168   \n",
       "3             18.795353    19.505856    19.224485    19.112057    19.110556   \n",
       "4             20.607525    21.569519    21.110239    20.966051    20.918962   \n",
       "\n",
       "    y_chp_psf_p  MAG_AUTO_p CLASS_s  \n",
       "0  1.358774e+01   15.705700     NaN  \n",
       "1  1.757736e+01   18.974701     NaN  \n",
       "2  1.576375e+01   19.656700     NaN  \n",
       "3  1.906391e+01   20.396700     NaN  \n",
       "4  1.000000e+20   20.993000     NaN  "
      ]
     },
     "execution_count": 19,
     "metadata": {},
     "output_type": "execute_result"
    }
   ],
   "source": [
    "sdss.head()"
   ]
  },
  {
   "cell_type": "code",
   "execution_count": 20,
   "id": "2218836e-576b-4e01-9e97-c0729e79d31d",
   "metadata": {},
   "outputs": [
    {
     "data": {
      "text/plain": [
       "STAR      79150\n",
       "QSO       75940\n",
       "GALAXY    65401\n",
       "Name: CLASS_s, dtype: int64"
      ]
     },
     "execution_count": 20,
     "metadata": {},
     "output_type": "execute_result"
    }
   ],
   "source": [
    "sdss.CLASS_s.value_counts()"
   ]
  },
  {
   "cell_type": "code",
   "execution_count": 21,
   "id": "a0694583-e852-49ab-ad6a-0bfd2bb589a4",
   "metadata": {},
   "outputs": [],
   "source": [
    "sdss = sdss.loc[(sdss[\"g_chp_psf_p\"] < 1e19) & (sdss[\"r_chp_psf_p\"] < 1e19) & (sdss[\"i_chp_psf_p\"] < 1e19) & \\\n",
    "                        (sdss[\"z_chp_psf_p\"] < 1e19) & (sdss[\"y_chp_psf_p\"] < 1e19) & (sdss[\"MAG_AUTO_p\"] < 95) & \\\n",
    "                        (np.isnan(sdss[\"phot_g_mean_mag_1_p\"]) == False) & (np.isnan(sdss[\"phot_bp_mean_mag_1_p\"]) == False) & \\\n",
    "                        (np.isnan(sdss[\"pmra_1_p\"]) == False) & (np.isnan(sdss[\"pmdec_1_p\"]) == False) & \\\n",
    "                        (np.isnan(sdss[\"phot_rp_mean_mag_1_p\"]) == False)]"
   ]
  },
  {
   "cell_type": "code",
   "execution_count": 22,
   "id": "8fed7419-d079-4fc7-b387-9f0bdd3b4d6f",
   "metadata": {},
   "outputs": [],
   "source": [
    "# sspp = sspp.loc[(sspp[\"g_chp_psf_p\"] < 1e19) & (sspp[\"r_chp_psf_p\"] < 1e19) & (sspp[\"i_chp_psf_p\"] < 1e19) & \\\n",
    "#                         (sspp[\"z_chp_psf_p\"] < 1e19) & (sspp[\"y_chp_psf_p\"] < 1e19) & (sspp[\"MAG_AUTO_p\"] < 95) & \\\n",
    "#                         (np.isnan(sspp[\"phot_g_mean_mag_1_p\"]) == False) & (np.isnan(sspp[\"phot_bp_mean_mag_1_p\"]) == False) & \\\n",
    "#                         (np.isnan(sspp[\"pmra_1_p\"]) == False) & (np.isnan(sspp[\"pmdec_1_p\"]) == False) & \\\n",
    "#                         (np.isnan(sspp[\"phot_rp_mean_mag_1_p\"]) == False)]"
   ]
  },
  {
   "cell_type": "code",
   "execution_count": 23,
   "id": "0f612547-2a09-4e1c-8af6-1a52ac07efdd",
   "metadata": {},
   "outputs": [
    {
     "data": {
      "text/html": [
       "<div>\n",
       "<style scoped>\n",
       "    .dataframe tbody tr th:only-of-type {\n",
       "        vertical-align: middle;\n",
       "    }\n",
       "\n",
       "    .dataframe tbody tr th {\n",
       "        vertical-align: top;\n",
       "    }\n",
       "\n",
       "    .dataframe thead th {\n",
       "        text-align: right;\n",
       "    }\n",
       "</style>\n",
       "<table border=\"1\" class=\"dataframe\">\n",
       "  <thead>\n",
       "    <tr style=\"text-align: right;\">\n",
       "      <th></th>\n",
       "      <th>CaHK_0_p</th>\n",
       "      <th>pmra_1_p</th>\n",
       "      <th>pmdec_1_p</th>\n",
       "      <th>phot_g_mean_mag_1_p</th>\n",
       "      <th>phot_bp_mean_mag_1_p</th>\n",
       "      <th>phot_rp_mean_mag_1_p</th>\n",
       "      <th>g_chp_psf_p</th>\n",
       "      <th>r_chp_psf_p</th>\n",
       "      <th>i_chp_psf_p</th>\n",
       "      <th>z_chp_psf_p</th>\n",
       "      <th>y_chp_psf_p</th>\n",
       "      <th>MAG_AUTO_p</th>\n",
       "      <th>CLASS_s</th>\n",
       "    </tr>\n",
       "  </thead>\n",
       "  <tbody>\n",
       "    <tr>\n",
       "      <th>0</th>\n",
       "      <td>21.972</td>\n",
       "      <td>-0.416</td>\n",
       "      <td>-8.462</td>\n",
       "      <td>13.833454</td>\n",
       "      <td>14.202310</td>\n",
       "      <td>13.300272</td>\n",
       "      <td>14.255604</td>\n",
       "      <td>13.802833</td>\n",
       "      <td>13.653096</td>\n",
       "      <td>13.630348</td>\n",
       "      <td>13.587737</td>\n",
       "      <td>15.705700</td>\n",
       "      <td>Unknown</td>\n",
       "    </tr>\n",
       "    <tr>\n",
       "      <th>1</th>\n",
       "      <td>25.296</td>\n",
       "      <td>-0.102</td>\n",
       "      <td>-13.107</td>\n",
       "      <td>17.743600</td>\n",
       "      <td>18.087147</td>\n",
       "      <td>17.302958</td>\n",
       "      <td>18.060312</td>\n",
       "      <td>17.742205</td>\n",
       "      <td>17.621430</td>\n",
       "      <td>17.599453</td>\n",
       "      <td>17.577356</td>\n",
       "      <td>18.974701</td>\n",
       "      <td>Unknown</td>\n",
       "    </tr>\n",
       "    <tr>\n",
       "      <th>2</th>\n",
       "      <td>25.864</td>\n",
       "      <td>-6.181</td>\n",
       "      <td>-2.274</td>\n",
       "      <td>16.413301</td>\n",
       "      <td>17.041140</td>\n",
       "      <td>15.655658</td>\n",
       "      <td>17.248518</td>\n",
       "      <td>16.378054</td>\n",
       "      <td>16.022442</td>\n",
       "      <td>15.873168</td>\n",
       "      <td>15.763746</td>\n",
       "      <td>19.656700</td>\n",
       "      <td>Unknown</td>\n",
       "    </tr>\n",
       "    <tr>\n",
       "      <th>3</th>\n",
       "      <td>26.582</td>\n",
       "      <td>1.104</td>\n",
       "      <td>-6.515</td>\n",
       "      <td>19.234087</td>\n",
       "      <td>19.529345</td>\n",
       "      <td>18.795353</td>\n",
       "      <td>19.505856</td>\n",
       "      <td>19.224485</td>\n",
       "      <td>19.112057</td>\n",
       "      <td>19.110556</td>\n",
       "      <td>19.063910</td>\n",
       "      <td>20.396700</td>\n",
       "      <td>Unknown</td>\n",
       "    </tr>\n",
       "    <tr>\n",
       "      <th>6</th>\n",
       "      <td>21.261</td>\n",
       "      <td>-6.987</td>\n",
       "      <td>-2.044</td>\n",
       "      <td>13.644862</td>\n",
       "      <td>13.927730</td>\n",
       "      <td>13.203995</td>\n",
       "      <td>13.950986</td>\n",
       "      <td>13.646905</td>\n",
       "      <td>13.556214</td>\n",
       "      <td>13.562936</td>\n",
       "      <td>13.553225</td>\n",
       "      <td>14.988400</td>\n",
       "      <td>Unknown</td>\n",
       "    </tr>\n",
       "  </tbody>\n",
       "</table>\n",
       "</div>"
      ],
      "text/plain": [
       "   CaHK_0_p  pmra_1_p  pmdec_1_p  phot_g_mean_mag_1_p  phot_bp_mean_mag_1_p  \\\n",
       "0    21.972    -0.416     -8.462            13.833454             14.202310   \n",
       "1    25.296    -0.102    -13.107            17.743600             18.087147   \n",
       "2    25.864    -6.181     -2.274            16.413301             17.041140   \n",
       "3    26.582     1.104     -6.515            19.234087             19.529345   \n",
       "6    21.261    -6.987     -2.044            13.644862             13.927730   \n",
       "\n",
       "   phot_rp_mean_mag_1_p  g_chp_psf_p  r_chp_psf_p  i_chp_psf_p  z_chp_psf_p  \\\n",
       "0             13.300272    14.255604    13.802833    13.653096    13.630348   \n",
       "1             17.302958    18.060312    17.742205    17.621430    17.599453   \n",
       "2             15.655658    17.248518    16.378054    16.022442    15.873168   \n",
       "3             18.795353    19.505856    19.224485    19.112057    19.110556   \n",
       "6             13.203995    13.950986    13.646905    13.556214    13.562936   \n",
       "\n",
       "   y_chp_psf_p  MAG_AUTO_p  CLASS_s  \n",
       "0    13.587737   15.705700  Unknown  \n",
       "1    17.577356   18.974701  Unknown  \n",
       "2    15.763746   19.656700  Unknown  \n",
       "3    19.063910   20.396700  Unknown  \n",
       "6    13.553225   14.988400  Unknown  "
      ]
     },
     "execution_count": 23,
     "metadata": {},
     "output_type": "execute_result"
    }
   ],
   "source": [
    "sdss = sdss.replace({'CLASS_s': np.nan}, 'Unknown')\n",
    "sdss.head()"
   ]
  },
  {
   "cell_type": "code",
   "execution_count": 24,
   "id": "3e2d8f80-40aa-4c71-89cd-f14e52861cdd",
   "metadata": {},
   "outputs": [],
   "source": [
    "# sspp = sspp.replace({'AFE_s': np.nan}, -90)\n",
    "# sspp = sspp.replace({'FEH_ADOP_s': np.nan}, -90)\n",
    "# # sspp.head()"
   ]
  },
  {
   "cell_type": "code",
   "execution_count": 25,
   "id": "6aea27d3-c772-4a55-9b48-fba43dff1389",
   "metadata": {},
   "outputs": [],
   "source": [
    "# df_joined = vaex.from_pandas(pd.DataFrame({'PMRA': sdss['pmra_1_p'],\n",
    "#                    'PMDec': sdss['pmdec_1_p'],\n",
    "#                    'G_gaia': sdss[\"CaHK_0_p\"]-sdss['phot_g_mean_mag_1_p'],\n",
    "#                    'B_gaia': sdss[\"CaHK_0_p\"]-sdss['phot_bp_mean_mag_1_p'],\n",
    "#                    'R_gaia': sdss[\"CaHK_0_p\"]-sdss['phot_rp_mean_mag_1_p'],\n",
    "#                    'G_pan': sdss[\"CaHK_0_p\"]-sdss['g_chp_psf_p'],\n",
    "#                    'R_pan': sdss[\"CaHK_0_p\"]-sdss['r_chp_psf_p'],\n",
    "#                    'I_pan': sdss[\"CaHK_0_p\"]-sdss['i_chp_psf_p'],\n",
    "#                    'Z_pan': sdss[\"CaHK_0_p\"]-sdss['z_chp_psf_p'],\n",
    "#                    'Y_pan': sdss[\"CaHK_0_p\"]-sdss['y_chp_psf_p'],\n",
    "#                    'AUTO_cfis': sdss[\"CaHK_0_p\"]-sdss['MAG_AUTO_p']},\n",
    "#                    index=np.arange(0,len(sdss))))\n",
    "# df2 = pd.DataFrame({'Class': sdss['CLASS_s']}, index = np.arange(0,len(sdss)))"
   ]
  },
  {
   "cell_type": "code",
   "execution_count": 26,
   "id": "5dfd576e-19a1-42ae-aeda-2fc4ea5e782d",
   "metadata": {},
   "outputs": [],
   "source": [
    "df_joined = vaex.from_pandas(pd.DataFrame({'PMRA': sdss['pmra_1_p'],\n",
    "                   'PMDec': sdss['pmdec_1_p'],\n",
    "                   'G_gaia': sdss[\"CaHK_0_p\"]-sdss['phot_g_mean_mag_1_p'],\n",
    "                   'B_gaia': sdss[\"CaHK_0_p\"]-sdss['phot_bp_mean_mag_1_p'],\n",
    "                   'R_gaia': sdss[\"CaHK_0_p\"]-sdss['phot_rp_mean_mag_1_p'],\n",
    "                   'G_pan': sdss[\"CaHK_0_p\"]-sdss['g_chp_psf_p'],\n",
    "                   'R_pan': sdss[\"CaHK_0_p\"]-sdss['r_chp_psf_p'],\n",
    "                   'I_pan': sdss[\"CaHK_0_p\"]-sdss['i_chp_psf_p'],\n",
    "                   'Z_pan': sdss[\"CaHK_0_p\"]-sdss['z_chp_psf_p'],\n",
    "                   'Y_pan': sdss[\"CaHK_0_p\"]-sdss['y_chp_psf_p'],\n",
    "                   'AUTO_cfis': sdss[\"CaHK_0_p\"]-sdss['MAG_AUTO_p']}))\n",
    "df2 = pd.DataFrame({'Class': sdss['CLASS_s']})"
   ]
  },
  {
   "cell_type": "code",
   "execution_count": 27,
   "id": "7c4ada06-ee44-4dd4-85fe-f643a0c44747",
   "metadata": {},
   "outputs": [],
   "source": [
    "# df_joined_fe = vaex.from_pandas(pd.DataFrame({'PMRA': sspp['pmra_1_p'],\n",
    "#                       'PMDec': sspp['pmdec_1_p'],\n",
    "#                       'G_gaia': sspp[\"CaHK_0_p\"]-sspp['phot_g_mean_mag_1_p'],\n",
    "#                       'B_gaia': sspp[\"CaHK_0_p\"]-sspp['phot_bp_mean_mag_1_p'],\n",
    "#                       'R_gaia': sspp[\"CaHK_0_p\"]-sspp['phot_rp_mean_mag_1_p'],\n",
    "#                       'G_pan': sspp[\"CaHK_0_p\"]-sspp['g_chp_psf_p'],\n",
    "#                       'R_pan': sspp[\"CaHK_0_p\"]-sspp['r_chp_psf_p'],\n",
    "#                       'I_pan': sspp[\"CaHK_0_p\"]-sspp['i_chp_psf_p'],\n",
    "#                       'Z_pan': sspp[\"CaHK_0_p\"]-sspp['z_chp_psf_p'],\n",
    "#                       'Y_pan': sspp[\"CaHK_0_p\"]-sspp['y_chp_psf_p'],\n",
    "#                       'AUTO_cfis': sspp[\"CaHK_0_p\"]-sspp['MAG_AUTO_p']}))\n",
    "# df2_afe = pd.DataFrame({'a/Fe': sspp['AFE_s']})\n",
    "# df2_feh = pd.DataFrame({'Fe/H': sspp['FEH_ADOP_s']})"
   ]
  },
  {
   "cell_type": "code",
   "execution_count": 28,
   "id": "00866e49-82b1-476c-9ef0-6f54f4e63972",
   "metadata": {},
   "outputs": [],
   "source": [
    "# df_joined_fe = vaex.from_pandas(pd.DataFrame({'PMRA': sspp['pmra_1_p'],\n",
    "#                       'PMDec': sspp['pmdec_1_p'],\n",
    "#                       'G_gaia': sspp[\"CaHK_0_p\"]-sspp['phot_g_mean_mag_1_p'],\n",
    "#                       'B_gaia': sspp[\"CaHK_0_p\"]-sspp['phot_bp_mean_mag_1_p'],\n",
    "#                       'R_gaia': sspp[\"CaHK_0_p\"]-sspp['phot_rp_mean_mag_1_p'],\n",
    "#                       'G_pan': sspp[\"CaHK_0_p\"]-sspp['g_chp_psf_p'],\n",
    "#                       'R_pan': sspp[\"CaHK_0_p\"]-sspp['r_chp_psf_p'],\n",
    "#                       'I_pan': sspp[\"CaHK_0_p\"]-sspp['i_chp_psf_p'],\n",
    "#                       'Z_pan': sspp[\"CaHK_0_p\"]-sspp['z_chp_psf_p'],\n",
    "#                       'Y_pan': sspp[\"CaHK_0_p\"]-sspp['y_chp_psf_p'],\n",
    "#                       'AUTO_cfis': sspp[\"CaHK_0_p\"]-sspp['MAG_AUTO_p']},\n",
    "#                       index=np.arange(0,len(sspp))))\n",
    "# df2_afe = pd.DataFrame({'a/Fe': sspp['AFE_s']}, index = np.arange(0,len(sspp)))\n",
    "# df2_feh = pd.DataFrame({'Fe/H': sspp['FEH_ADOP_s']}, index = np.arange(0,len(sspp)))"
   ]
  },
  {
   "cell_type": "code",
   "execution_count": 29,
   "id": "ae47bf64-9009-436e-bdc0-2a95ad07d175",
   "metadata": {},
   "outputs": [
    {
     "name": "stdout",
     "output_type": "stream",
     "text": [
      "(3718245, 11)\n",
      "(3718245, 11)\n",
      "(3718245, 1)\n",
      "(3718245, 1)\n"
     ]
    }
   ],
   "source": [
    "print(df_joined.shape)\n",
    "df_joined = df_joined.dropna()\n",
    "print(df_joined.shape)\n",
    "print(df2.shape)\n",
    "df2 = df2.dropna()\n",
    "print(df2.shape)"
   ]
  },
  {
   "cell_type": "code",
   "execution_count": 30,
   "id": "9e77a9d3-cdb1-44ac-9dbb-0b86c9d14b5f",
   "metadata": {},
   "outputs": [],
   "source": [
    "# print(df_joined_fe.shape)\n",
    "# df_joined_fe = df_joined_fe.dropna()\n",
    "# print(df_joined_fe.shape)\n",
    "# print(df2_afe.shape)\n",
    "# df2_afe = df2_afe.dropna()\n",
    "# print(df2_afe.shape)\n",
    "# print(df2_feh.shape)\n",
    "# df2_feh = df2_feh.dropna()\n",
    "# print(df2_feh.shape)"
   ]
  },
  {
   "cell_type": "code",
   "execution_count": 31,
   "id": "bbf2036f-fbf8-4943-bf10-5d7159989b8e",
   "metadata": {},
   "outputs": [],
   "source": [
    "# Uncomment if not using the stuff above\n",
    "# reducer = umap.UMAP(random_state=42,verbose=True)"
   ]
  },
  {
   "cell_type": "code",
   "execution_count": null,
   "id": "10422434-1e06-4956-b88c-0dfc6bb94d9c",
   "metadata": {},
   "outputs": [
    {
     "name": "stdout",
     "output_type": "stream",
     "text": [
      "Mon Feb 28 03:32:00 2022 Worst tree score: 0.82645845\n",
      "Mon Feb 28 03:32:00 2022 Mean tree score: 0.82697624\n",
      "Mon Feb 28 03:32:00 2022 Best tree score: 0.82749362\n",
      "Mon Feb 28 03:32:35 2022 Forward diversification reduced edges from 55773675 to 24695332\n",
      "Mon Feb 28 03:32:47 2022 Reverse diversification reduced edges from 24695332 to 24695332\n",
      "Mon Feb 28 03:32:52 2022 Degree pruning reduced edges from 25391036 to 25391036\n",
      "Mon Feb 28 03:32:52 2022 Resorting data and graph based on tree order\n",
      "Mon Feb 28 03:32:55 2022 Building and compiling search function\n"
     ]
    }
   ],
   "source": [
    "scaled_star_data_joined = StandardScaler().fit_transform(df_joined)\n",
    "embedding_joined = reducer.transform(scaled_star_data_joined)"
   ]
  },
  {
   "cell_type": "code",
   "execution_count": null,
   "id": "676e73bf-e32d-4c78-acb2-0e1ed374dd80",
   "metadata": {},
   "outputs": [],
   "source": [
    "# scaled_star_data_joined_fe = StandardScaler().fit_transform(df_joined_fe)\n",
    "# embedding_joined_fe = reducer.transform(scaled_star_data_joined_fe)"
   ]
  },
  {
   "cell_type": "code",
   "execution_count": null,
   "id": "0e21b023-5148-4493-bb13-87f168003981",
   "metadata": {},
   "outputs": [],
   "source": [
    "df2cmap = df2.replace('Unknown',0)\n",
    "df2cmap = df2cmap.replace('STAR',1)\n",
    "df2cmap = df2cmap.replace('GALAXY',2)\n",
    "df2cmap = df2cmap.replace('QSO',3)\n",
    "# df2cmap.value_counts()"
   ]
  },
  {
   "cell_type": "code",
   "execution_count": null,
   "id": "ba4ef4f4-1f4d-49dc-bfbd-92c400c9bda9",
   "metadata": {},
   "outputs": [],
   "source": [
    "fig, ax = plt.subplots(figsize=(18,18));\n",
    "cax = ax.scatter(embedding_joined[:, 0], embedding_joined[:, 1], c=df2cmap['Class'], cmap='Spectral', s=5);\n",
    "ax.set_aspect('equal', 'datalim');\n",
    "cbar = fig.colorbar(cax, boundaries=np.arange(5)-0.5, ticks=[0, 1, 2, 3]);\n",
    "cbar.ax.set_yticklabels(['Unknown','Star','Galaxy','QSO']);\n",
    "ax.set_title(\"SpecObjs Catalogue Left Joined onto Pristine Dataset, Coloured by SpecObjs Class\")\n",
    "plt.savefig('/arc/home/aydanmckay/pmspecobjsmappedtopristinecolourshsv.png')"
   ]
  },
  {
   "cell_type": "code",
   "execution_count": null,
   "id": "66217b8e-2147-4f77-899d-9ece822b50ef",
   "metadata": {},
   "outputs": [],
   "source": [
    "mask = df2cmap['Class'] != 0"
   ]
  },
  {
   "cell_type": "code",
   "execution_count": null,
   "id": "2043b035-6988-49ac-9765-e42a92abee9b",
   "metadata": {},
   "outputs": [],
   "source": [
    "fig, ax = plt.subplots(figsize=(18,18));\n",
    "cax = ax.scatter(embedding_joined[:, 0][mask], embedding_joined[:, 1][mask], c=df2cmap['Class'][mask], cmap='Spectral', s=5);\n",
    "ax.set_aspect('equal', 'datalim');\n",
    "cbar = fig.colorbar(cax, boundaries=np.arange(1,5)-0.5, ticks=[1, 2, 3]);\n",
    "cbar.ax.set_yticklabels(['Star','Galaxy','QSO']);\n",
    "ax.set_title(\"SDSS Catalogue Left Joined onto Pristine Dataset, Coloured by SDSS Class\");\n",
    "plt.savefig('/arc/home/aydanmckay/pmspecobjsmappedtopristinecoloursnounknownshsv.pdf')"
   ]
  },
  {
   "cell_type": "code",
   "execution_count": null,
   "id": "442f4462-93d4-42cd-ba70-6d4b8cab4637",
   "metadata": {},
   "outputs": [],
   "source": [
    "# mask_afe = df2_afe['a/Fe'] > -9"
   ]
  },
  {
   "cell_type": "code",
   "execution_count": null,
   "id": "839b6823-5ad2-478f-a0ef-78753dacb16a",
   "metadata": {},
   "outputs": [],
   "source": [
    "# plt.figure(figsize=(12,12))\n",
    "# plt.scatter(embedding_joined_fe[:, 0][mask_afe], embedding_joined_fe[:, 1][mask_afe],c=df2_afe['a/Fe'][mask_afe], cmap='hsv', s=5)\n",
    "# plt.gca().set_aspect('equal', 'datalim')\n",
    "# plt.colorbar()\n",
    "# plt.title(r\"SpecObjs Catalogue Left Joined onto Pristine Dataset, Coloured by SSPP $\\alpha$/Fe\")\n",
    "# # plt.savefig('/arc/home/aydanmckay/pmssppmappedtopristinecoloursafehsv.png')"
   ]
  },
  {
   "cell_type": "code",
   "execution_count": null,
   "id": "1cb6da3d-660d-4d5e-91c2-b942fcd05db1",
   "metadata": {},
   "outputs": [],
   "source": [
    "# mask_feh = df2_feh['Fe/H'] > -9"
   ]
  },
  {
   "cell_type": "code",
   "execution_count": null,
   "id": "633f5bf1-99c7-494b-b713-b0d7b008ab55",
   "metadata": {},
   "outputs": [],
   "source": [
    "# plt.figure(figsize=(12,12))\n",
    "# plt.scatter(embedding_joined_fe[:, 0][mask_feh], embedding_joined_fe[:, 1][mask_feh],c=df2_feh['Fe/H'][mask_feh], cmap='hsv', s=5)\n",
    "# plt.gca().set_aspect('equal', 'datalim')\n",
    "# plt.colorbar()\n",
    "# plt.title(\"SpecObjs Catalogue Left Joined onto Pristine Dataset, Coloured by SSPP Fe/H\")\n",
    "# # plt.savefig('/arc/home/aydanmckay/pmssppmappedtopristinecoloursfehhsv.png')"
   ]
  },
  {
   "cell_type": "code",
   "execution_count": null,
   "id": "8bd54e9d-af7d-4aba-ba0e-2d9b3ef423bb",
   "metadata": {},
   "outputs": [],
   "source": []
  }
 ],
 "metadata": {
  "kernelspec": {
   "display_name": "Python 3 (ipykernel)",
   "language": "python",
   "name": "python3"
  },
  "language_info": {
   "codemirror_mode": {
    "name": "ipython",
    "version": 3
   },
   "file_extension": ".py",
   "mimetype": "text/x-python",
   "name": "python",
   "nbconvert_exporter": "python",
   "pygments_lexer": "ipython3",
   "version": "3.9.10"
  }
 },
 "nbformat": 4,
 "nbformat_minor": 5
}
