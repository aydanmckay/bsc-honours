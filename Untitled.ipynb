{
 "cells": [
  {
   "cell_type": "code",
   "execution_count": 1,
   "id": "7a9c7c08-64ec-42fd-8dac-e3a2b24182f6",
   "metadata": {},
   "outputs": [],
   "source": [
    "import pandas as pd\n",
    "import numpy as np\n",
    "import vaex\n",
    "vaex.multithreading.thread_count_default = 8\n",
    "import vaex.ml"
   ]
  },
  {
   "cell_type": "code",
   "execution_count": 2,
   "id": "2011e3e5-ef9f-4cb2-85ad-60f3058346b3",
   "metadata": {},
   "outputs": [],
   "source": [
    "sspp = pd.read_csv('/arc/home/aydanmckay/leftjoinpristinesspplamostlrsmilliquas.csv',\n",
    "                   usecols=[\"CaHK_0_p\",\"pmra_1_p\",\"pmdec_1_p\",\"pmra_error_1_p\",\"pmdec_error_1_p\",\"g_chp_psf_p\",\"r_chp_psf_p\",\"i_chp_psf_p\",\n",
    "                            \"z_chp_psf_p\",\"y_chp_psf_p\",\"MAG_AUTO_p\",\"phot_g_mean_mag_1_p\",\"phot_bp_mean_mag_1_p\",\"phot_rp_mean_mag_1_p\",\n",
    "                            \"RA_q\",\"AFE_s\",\"FEH_ADOP_s\"])"
   ]
  },
  {
   "cell_type": "code",
   "execution_count": 3,
   "id": "cd4d8664-4289-4654-a0b2-7f5e4d750053",
   "metadata": {},
   "outputs": [],
   "source": [
    "sspp = sspp.loc[(sspp[\"g_chp_psf_p\"] < 1e19) & (sspp[\"r_chp_psf_p\"] < 1e19) & (sspp[\"i_chp_psf_p\"] < 1e19) & \\\n",
    "                        (sspp[\"z_chp_psf_p\"] < 1e19) & (sspp[\"y_chp_psf_p\"] < 1e19) & (sspp[\"MAG_AUTO_p\"] < 95) & \\\n",
    "                        (np.isnan(sspp[\"pmra_1_p\"]) == False) & (np.isnan(sspp[\"pmdec_1_p\"]) == False) & \\\n",
    "                        (np.isnan(sspp[\"phot_g_mean_mag_1_p\"]) == False) & (np.isnan(sspp[\"phot_bp_mean_mag_1_p\"]) == False) & \\\n",
    "                        (np.isnan(sspp[\"phot_rp_mean_mag_1_p\"]) == False) & (np.isnan(sspp['RA_q']) == True)]"
   ]
  },
  {
   "cell_type": "code",
   "execution_count": 4,
   "id": "3d5670f6-680d-4c47-884b-bcdcbc0d31d2",
   "metadata": {},
   "outputs": [],
   "source": [
    "df_joined_fe = pd.DataFrame({'PMRA': sspp['pmra_1_p'],\n",
    "                      'PMRA_err': sspp['pmra_error_1_p'],\n",
    "                      'PMDec': sspp['pmdec_1_p'],\n",
    "                      'PMDec_err': sspp['pmdec_error_1_p'],\n",
    "                      'G_gaia': sspp[\"CaHK_0_p\"]-sspp['phot_g_mean_mag_1_p'],\n",
    "                      'B_gaia': sspp[\"CaHK_0_p\"]-sspp['phot_bp_mean_mag_1_p'],\n",
    "                      'R_gaia': sspp[\"CaHK_0_p\"]-sspp['phot_rp_mean_mag_1_p'],\n",
    "                      'G_pan': sspp[\"CaHK_0_p\"]-sspp['g_chp_psf_p'],\n",
    "                      'R_pan': sspp[\"CaHK_0_p\"]-sspp['r_chp_psf_p'],\n",
    "                      'I_pan': sspp[\"CaHK_0_p\"]-sspp['i_chp_psf_p'],\n",
    "                      'Z_pan': sspp[\"CaHK_0_p\"]-sspp['z_chp_psf_p'],\n",
    "                      'Y_pan': sspp[\"CaHK_0_p\"]-sspp['y_chp_psf_p'],\n",
    "                      'AUTO_cfis': sspp[\"CaHK_0_p\"]-sspp['MAG_AUTO_p'],\n",
    "                      'Fe/H': sspp['FEH_ADOP_s']})\n",
    "df_joined_fe.to_parquet('/arc/projects/k-pop/aydan_27_01_22.parquet')"
   ]
  },
  {
   "cell_type": "code",
   "execution_count": null,
   "id": "33790f67-97c0-4fa3-bc39-123f21d62e3a",
   "metadata": {},
   "outputs": [],
   "source": []
  }
 ],
 "metadata": {
  "kernelspec": {
   "display_name": "Python 3 (ipykernel)",
   "language": "python",
   "name": "python3"
  },
  "language_info": {
   "codemirror_mode": {
    "name": "ipython",
    "version": 3
   },
   "file_extension": ".py",
   "mimetype": "text/x-python",
   "name": "python",
   "nbconvert_exporter": "python",
   "pygments_lexer": "ipython3",
   "version": "3.8.12"
  }
 },
 "nbformat": 4,
 "nbformat_minor": 5
}
