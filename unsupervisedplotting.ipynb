{
 "cells": [
  {
   "cell_type": "code",
   "execution_count": 1,
   "id": "574551d0-3b3e-44a5-a1ba-9e61f11b5cd4",
   "metadata": {},
   "outputs": [],
   "source": [
    "import pandas as pd\n",
    "import numpy as np\n",
    "import umap\n",
    "from sklearn.preprocessing import StandardScaler\n",
    "import matplotlib.pyplot as plt\n",
    "import vaex\n",
    "vaex.multithreading.thread_count_default = 8\n",
    "import vaex.ml\n",
    "import pickle"
   ]
  },
  {
   "cell_type": "code",
   "execution_count": 2,
   "id": "e1d039c0-4ccb-4ba9-9479-a660ceed0e03",
   "metadata": {},
   "outputs": [],
   "source": [
    "pristine = pd.read_parquet('/arc/projects/k-pop/pristine/Pristine_CFIS.parquet',\n",
    "                           columns=[\"CaHK_0\",\"pmra_1\",\"pmdec_1\",\"g_chp_psf\",\"r_chp_psf\",\"i_chp_psf\",\"z_chp_psf\",\"y_chp_psf\",\"MAG_AUTO\",\n",
    "                                    \"phot_g_mean_mag_1\",\"phot_bp_mean_mag_1\",\"phot_rp_mean_mag_1\"])"
   ]
  },
  {
   "cell_type": "code",
   "execution_count": 3,
   "id": "43a930d2-db2f-4434-9d32-7a8f2d0e7a6f",
   "metadata": {},
   "outputs": [],
   "source": [
    "pristine = pristine.loc[(pristine[\"g_chp_psf\"] < 1e19) & (pristine[\"r_chp_psf\"] < 1e19) & (pristine[\"i_chp_psf\"] < 1e19) & \\\n",
    "                        (pristine[\"z_chp_psf\"] < 1e19) & (pristine[\"y_chp_psf\"] < 1e19) & (pristine[\"MAG_AUTO\"] < 95) & \\\n",
    "                        (np.isnan(pristine[\"phot_g_mean_mag_1\"]) == False) & (np.isnan(pristine[\"phot_bp_mean_mag_1\"]) == False) & \\\n",
    "                        (np.isnan(pristine[\"pmra_1\"]) == False) & (np.isnan(pristine[\"pmdec_1\"]) == False) & \\\n",
    "                        (np.isnan(pristine[\"phot_rp_mean_mag_1\"]) == False)]"
   ]
  },
  {
   "cell_type": "code",
   "execution_count": 4,
   "id": "b531f3fa-ad89-4978-933c-3a40c1adbbd3",
   "metadata": {},
   "outputs": [],
   "source": [
    "df = vaex.from_pandas(pd.DataFrame({'PMRA': pristine['pmra_1'],\n",
    "                   'PMDec': pristine['pmdec_1'],\n",
    "                   'G_gaia': pristine['CaHK_0']-pristine['phot_g_mean_mag_1'],\n",
    "                   'B_gaia': pristine['CaHK_0']-pristine['phot_bp_mean_mag_1'],\n",
    "                   'R_gaia': pristine['CaHK_0']-pristine['phot_rp_mean_mag_1'],\n",
    "                   'G_pan': pristine['CaHK_0']-pristine['g_chp_psf'],\n",
    "                   'R_pan': pristine['CaHK_0']-pristine['r_chp_psf'],\n",
    "                   'I_pan': pristine['CaHK_0']-pristine['i_chp_psf'],\n",
    "                   'Z_pan': pristine['CaHK_0']-pristine['z_chp_psf'],\n",
    "                   'Y_pan': pristine['CaHK_0']-pristine['y_chp_psf'],\n",
    "                   'AUTO_cfis': pristine['CaHK_0']-pristine['MAG_AUTO']}))"
   ]
  },
  {
   "cell_type": "code",
   "execution_count": 5,
   "id": "1b6ffd31-6444-4213-ad82-be8000a250fb",
   "metadata": {},
   "outputs": [
    {
     "name": "stdout",
     "output_type": "stream",
     "text": [
      "(3718245, 11)\n",
      "(3718245, 11)\n"
     ]
    }
   ],
   "source": [
    "print(df.shape)\n",
    "data = df.dropna()\n",
    "print(data.shape)"
   ]
  },
  {
   "cell_type": "code",
   "execution_count": 6,
   "id": "c00dbc7d-ac4e-4f59-abbf-2dd55d1d545e",
   "metadata": {},
   "outputs": [],
   "source": [
    "scaled_star_data = StandardScaler().fit_transform(data)"
   ]
  },
  {
   "cell_type": "code",
   "execution_count": 7,
   "id": "111b02b1-006a-4811-bb66-1a6a2dfb9dea",
   "metadata": {},
   "outputs": [
    {
     "name": "stderr",
     "output_type": "stream",
     "text": [
      "<timed exec>:5: DeprecationWarning: Please use `csr_matrix` from the `scipy.sparse` namespace, the `scipy.sparse.csr` namespace is deprecated.\n"
     ]
    },
    {
     "name": "stdout",
     "output_type": "stream",
     "text": [
      "Sun Apr  3 01:02:19 2022 Building and compiling search function\n"
     ]
    },
    {
     "ename": "AttributeError",
     "evalue": "'NNDescent' object has no attribute 'parallel_batch_queries'",
     "output_type": "error",
     "traceback": [
      "\u001b[0;31m---------------------------------------------------------------------------\u001b[0m",
      "\u001b[0;31mAttributeError\u001b[0m                            Traceback (most recent call last)",
      "File \u001b[0;32m<timed exec>:5\u001b[0m, in \u001b[0;36m<module>\u001b[0;34m\u001b[0m\n",
      "File \u001b[0;32m/opt/conda/lib/python3.9/site-packages/pynndescent/pynndescent_.py:938\u001b[0m, in \u001b[0;36mNNDescent.__setstate__\u001b[0;34m(self, d)\u001b[0m\n\u001b[1;32m    936\u001b[0m     \u001b[38;5;28mself\u001b[39m\u001b[38;5;241m.\u001b[39m_init_sparse_search_function()\n\u001b[1;32m    937\u001b[0m \u001b[38;5;28;01melse\u001b[39;00m:\n\u001b[0;32m--> 938\u001b[0m     \u001b[38;5;28;43mself\u001b[39;49m\u001b[38;5;241;43m.\u001b[39;49m\u001b[43m_init_search_function\u001b[49m\u001b[43m(\u001b[49m\u001b[43m)\u001b[49m\n",
      "File \u001b[0;32m/opt/conda/lib/python3.9/site-packages/pynndescent/pynndescent_.py:1189\u001b[0m, in \u001b[0;36mNNDescent._init_search_function\u001b[0;34m(self)\u001b[0m\n\u001b[1;32m   1187\u001b[0m dist \u001b[38;5;241m=\u001b[39m \u001b[38;5;28mself\u001b[39m\u001b[38;5;241m.\u001b[39m_distance_func\n\u001b[1;32m   1188\u001b[0m n_neighbors \u001b[38;5;241m=\u001b[39m \u001b[38;5;28mself\u001b[39m\u001b[38;5;241m.\u001b[39mn_neighbors\n\u001b[0;32m-> 1189\u001b[0m parallel_search \u001b[38;5;241m=\u001b[39m \u001b[38;5;28;43mself\u001b[39;49m\u001b[38;5;241;43m.\u001b[39;49m\u001b[43mparallel_batch_queries\u001b[49m\n\u001b[1;32m   1191\u001b[0m \u001b[38;5;129m@numba\u001b[39m\u001b[38;5;241m.\u001b[39mnjit(\n\u001b[1;32m   1192\u001b[0m     fastmath\u001b[38;5;241m=\u001b[39m\u001b[38;5;28;01mTrue\u001b[39;00m,\n\u001b[1;32m   1193\u001b[0m     \u001b[38;5;28mlocals\u001b[39m\u001b[38;5;241m=\u001b[39m{\n\u001b[0;32m   (...)\u001b[0m\n\u001b[1;32m   1213\u001b[0m )\n\u001b[1;32m   1214\u001b[0m \u001b[38;5;28;01mdef\u001b[39;00m \u001b[38;5;21msearch_closure\u001b[39m(query_points, k, epsilon, visited, rng_state):\n\u001b[1;32m   1216\u001b[0m     result \u001b[38;5;241m=\u001b[39m make_heap(query_points\u001b[38;5;241m.\u001b[39mshape[\u001b[38;5;241m0\u001b[39m], k)\n",
      "\u001b[0;31mAttributeError\u001b[0m: 'NNDescent' object has no attribute 'parallel_batch_queries'"
     ]
    }
   ],
   "source": [
    "%%time\n",
    "filename = 'unsupervisedpickle.obj'\n",
    "with open(filename,'rb') as file_object:\n",
    "    raw_data = file_object.read()\n",
    "\n",
    "reducer = pickle.loads(raw_data)"
   ]
  },
  {
   "cell_type": "code",
   "execution_count": 8,
   "id": "4a75082a-ba66-48b2-a099-c2cc436a3ae4",
   "metadata": {},
   "outputs": [
    {
     "ename": "NameError",
     "evalue": "name 'reducer' is not defined",
     "output_type": "error",
     "traceback": [
      "\u001b[0;31m---------------------------------------------------------------------------\u001b[0m",
      "\u001b[0;31mNameError\u001b[0m                                 Traceback (most recent call last)",
      "Input \u001b[0;32mIn [8]\u001b[0m, in \u001b[0;36m<cell line: 1>\u001b[0;34m()\u001b[0m\n\u001b[0;32m----> 1\u001b[0m embedding \u001b[38;5;241m=\u001b[39m \u001b[43mreducer\u001b[49m\u001b[38;5;241m.\u001b[39mtransform(scaled_star_data)\n",
      "\u001b[0;31mNameError\u001b[0m: name 'reducer' is not defined"
     ]
    }
   ],
   "source": [
    "embedding = reducer.transform(scaled_star_data)"
   ]
  },
  {
   "cell_type": "code",
   "execution_count": null,
   "id": "08915baf-f4a5-447b-913a-d499daa1dcd2",
   "metadata": {},
   "outputs": [],
   "source": [
    "plt.figure(figsize=(12,12))\n",
    "plt.scatter(embedding[:, 0], embedding[:, 1], cmap='Spectral', s=5)\n",
    "plt.gca().set_aspect('equal', 'datalim')\n",
    "plt.colorbar()\n",
    "plt.savefig('/arc/home/aydanmckay/bigdatapristinecolours.png')"
   ]
  },
  {
   "cell_type": "code",
   "execution_count": null,
   "id": "ed2e12c0-c39a-4136-8b0f-a92a8739247c",
   "metadata": {},
   "outputs": [],
   "source": [
    "%%time\n",
    "# sdss = pd.read_csv('/arc/home/aydanmckay/leftjoinpristinespecobj.csv',\n",
    "#                    usecols=[\"CaHK_0_p\",\"pmra_1_p\",\"pmdec_1_p\",\"g_chp_psf_p\",\"r_chp_psf_p\",\"i_chp_psf_p\",\"z_chp_psf_p\",\"y_chp_psf_p\",\"MAG_AUTO_p\",\n",
    "#                             \"phot_g_mean_mag_1_p\",\"phot_bp_mean_mag_1_p\",\"phot_rp_mean_mag_1_p\",\"CLASS_s\"])\n",
    "sspp = pd.read_csv('/arc/home/aydanmckay/leftjoinpristinesspp.csv',\n",
    "                   usecols=[\"CaHK_0_p\",\"pmra_1_p\",\"pmdec_1_p\",\"g_chp_psf_p\",\"r_chp_psf_p\",\"i_chp_psf_p\",\"z_chp_psf_p\",\"y_chp_psf_p\",\"MAG_AUTO_p\",\n",
    "                            \"phot_g_mean_mag_1_p\",\"phot_bp_mean_mag_1_p\",\"phot_rp_mean_mag_1_p\",\"AFE_s\",\"FEH_ADOP_s\",\"TEFF_ADOP_s\",\"LOGG_ADOP_s\"])"
   ]
  },
  {
   "cell_type": "code",
   "execution_count": null,
   "id": "a0694583-e852-49ab-ad6a-0bfd2bb589a4",
   "metadata": {},
   "outputs": [],
   "source": [
    "# sdss = sdss.loc[(sdss[\"g_chp_psf_p\"] < 1e19) & (sdss[\"r_chp_psf_p\"] < 1e19) & (sdss[\"i_chp_psf_p\"] < 1e19) & \\\n",
    "#                         (sdss[\"z_chp_psf_p\"] < 1e19) & (sdss[\"y_chp_psf_p\"] < 1e19) & (sdss[\"MAG_AUTO_p\"] < 95) & \\\n",
    "#                         (np.isnan(sdss[\"phot_g_mean_mag_1_p\"]) == False) & (np.isnan(sdss[\"phot_bp_mean_mag_1_p\"]) == False) & \\\n",
    "#                         (np.isnan(sdss[\"pmra_1_p\"]) == False) & (np.isnan(sdss[\"pmdec_1_p\"]) == False) & \\\n",
    "#                         (np.isnan(sdss[\"phot_rp_mean_mag_1_p\"]) == False)]"
   ]
  },
  {
   "cell_type": "code",
   "execution_count": null,
   "id": "8fed7419-d079-4fc7-b387-9f0bdd3b4d6f",
   "metadata": {},
   "outputs": [],
   "source": [
    "sspp = sspp.loc[(sspp[\"g_chp_psf_p\"] < 1e19) & (sspp[\"r_chp_psf_p\"] < 1e19) & (sspp[\"i_chp_psf_p\"] < 1e19) & \\\n",
    "                        (sspp[\"z_chp_psf_p\"] < 1e19) & (sspp[\"y_chp_psf_p\"] < 1e19) & (sspp[\"MAG_AUTO_p\"] < 95) & \\\n",
    "                        (np.isnan(sspp[\"phot_g_mean_mag_1_p\"]) == False) & (np.isnan(sspp[\"phot_bp_mean_mag_1_p\"]) == False) & \\\n",
    "                        (np.isnan(sspp[\"pmra_1_p\"]) == False) & (np.isnan(sspp[\"pmdec_1_p\"]) == False) & \\\n",
    "                        (np.isnan(sspp[\"phot_rp_mean_mag_1_p\"]) == False)]"
   ]
  },
  {
   "cell_type": "code",
   "execution_count": null,
   "id": "0f612547-2a09-4e1c-8af6-1a52ac07efdd",
   "metadata": {},
   "outputs": [],
   "source": [
    "# sdss = sdss.replace({'CLASS_s': np.nan}, 'Unknown')\n",
    "# sdss.head()"
   ]
  },
  {
   "cell_type": "code",
   "execution_count": null,
   "id": "3e2d8f80-40aa-4c71-89cd-f14e52861cdd",
   "metadata": {},
   "outputs": [],
   "source": [
    "sspp = sspp.replace({'AFE_s': np.nan}, -90)\n",
    "sspp = sspp.replace({'FEH_ADOP_s': np.nan}, -90)\n",
    "# sspp.head()"
   ]
  },
  {
   "cell_type": "code",
   "execution_count": null,
   "id": "6aea27d3-c772-4a55-9b48-fba43dff1389",
   "metadata": {},
   "outputs": [],
   "source": [
    "# df_joined = vaex.from_pandas(pd.DataFrame({'PMRA': sdss['pmra_1_p'],\n",
    "#                    'PMDec': sdss['pmdec_1_p'],\n",
    "#                    'G_gaia': sdss[\"CaHK_0_p\"]-sdss['phot_g_mean_mag_1_p'],\n",
    "#                    'B_gaia': sdss[\"CaHK_0_p\"]-sdss['phot_bp_mean_mag_1_p'],\n",
    "#                    'R_gaia': sdss[\"CaHK_0_p\"]-sdss['phot_rp_mean_mag_1_p'],\n",
    "#                    'G_pan': sdss[\"CaHK_0_p\"]-sdss['g_chp_psf_p'],\n",
    "#                    'R_pan': sdss[\"CaHK_0_p\"]-sdss['r_chp_psf_p'],\n",
    "#                    'I_pan': sdss[\"CaHK_0_p\"]-sdss['i_chp_psf_p'],\n",
    "#                    'Z_pan': sdss[\"CaHK_0_p\"]-sdss['z_chp_psf_p'],\n",
    "#                    'Y_pan': sdss[\"CaHK_0_p\"]-sdss['y_chp_psf_p'],\n",
    "#                    'AUTO_cfis': sdss[\"CaHK_0_p\"]-sdss['MAG_AUTO_p']},\n",
    "#                    index=np.arange(0,len(sdss))))\n",
    "# df2 = pd.DataFrame({'Class': sdss['CLASS_s']}, index = np.arange(0,len(sdss)))"
   ]
  },
  {
   "cell_type": "code",
   "execution_count": null,
   "id": "00866e49-82b1-476c-9ef0-6f54f4e63972",
   "metadata": {},
   "outputs": [],
   "source": [
    "df_joined_fe = vaex.from_pandas(pd.DataFrame({'PMRA': sspp['pmra_1_p'],\n",
    "                      'PMDec': sspp['pmdec_1_p'],\n",
    "                      'G_gaia': sspp[\"CaHK_0_p\"]-sspp['phot_g_mean_mag_1_p'],\n",
    "                      'B_gaia': sspp[\"CaHK_0_p\"]-sspp['phot_bp_mean_mag_1_p'],\n",
    "                      'R_gaia': sspp[\"CaHK_0_p\"]-sspp['phot_rp_mean_mag_1_p'],\n",
    "                      'G_pan': sspp[\"CaHK_0_p\"]-sspp['g_chp_psf_p'],\n",
    "                      'R_pan': sspp[\"CaHK_0_p\"]-sspp['r_chp_psf_p'],\n",
    "                      'I_pan': sspp[\"CaHK_0_p\"]-sspp['i_chp_psf_p'],\n",
    "                      'Z_pan': sspp[\"CaHK_0_p\"]-sspp['z_chp_psf_p'],\n",
    "                      'Y_pan': sspp[\"CaHK_0_p\"]-sspp['y_chp_psf_p'],\n",
    "                      'AUTO_cfis': sspp[\"CaHK_0_p\"]-sspp['MAG_AUTO_p']},\n",
    "                      index=np.arange(0,len(sspp))))\n",
    "df2_afe = pd.DataFrame({'a/Fe': sspp['AFE_s']}, index = np.arange(0,len(sspp)))\n",
    "df2_feh = pd.DataFrame({'Fe/H': sspp['FEH_ADOP_s']}, index = np.arange(0,len(sspp)))\n",
    "df2_logg = pd.DataFrame({'logg': sspp['LOGG_ADOP_s']}, index = np.arange(0,len(sspp)))\n",
    "df2_teff = pd.DataFrame({'Teff': sspp['TEFF_ADOP_s']}, index = np.arange(0,len(sspp)))"
   ]
  },
  {
   "cell_type": "code",
   "execution_count": null,
   "id": "ae47bf64-9009-436e-bdc0-2a95ad07d175",
   "metadata": {},
   "outputs": [],
   "source": [
    "# print(df_joined.shape)\n",
    "# df_joined = df_joined.dropna()\n",
    "# print(df_joined.shape)\n",
    "# print(df2.shape)\n",
    "# df2 = df2.dropna()\n",
    "# print(df2.shape)"
   ]
  },
  {
   "cell_type": "code",
   "execution_count": null,
   "id": "9e77a9d3-cdb1-44ac-9dbb-0b86c9d14b5f",
   "metadata": {},
   "outputs": [],
   "source": [
    "print(df_joined_fe.shape)\n",
    "df_joined_fe = df_joined_fe.dropna()\n",
    "print(df_joined_fe.shape)\n",
    "print(df2_afe.shape)\n",
    "df2_afe = df2_afe.dropna()\n",
    "print(df2_afe.shape)\n",
    "print(df2_feh.shape)\n",
    "df2_feh = df2_feh.dropna()\n",
    "print(df2_feh.shape)\n",
    "print(df2_logg.shape)\n",
    "df2_logg = df2_logg.dropna()\n",
    "print(df2_logg.shape)\n",
    "print(df2_teff.shape)\n",
    "df2_teff = df2_teff.dropna()\n",
    "print(df2_teff.shape)"
   ]
  },
  {
   "cell_type": "code",
   "execution_count": null,
   "id": "10422434-1e06-4956-b88c-0dfc6bb94d9c",
   "metadata": {},
   "outputs": [],
   "source": [
    "# scaled_star_data_joined = StandardScaler().fit_transform(df_joined)\n",
    "# embedding_joined = reducer.transform(scaled_star_data_joined)"
   ]
  },
  {
   "cell_type": "code",
   "execution_count": null,
   "id": "676e73bf-e32d-4c78-acb2-0e1ed374dd80",
   "metadata": {},
   "outputs": [],
   "source": [
    "%%time\n",
    "scaled_star_data_joined_fe = StandardScaler().fit_transform(df_joined_fe)\n",
    "embedding_joined_fe = reducer.transform(scaled_star_data_joined_fe)"
   ]
  },
  {
   "cell_type": "code",
   "execution_count": null,
   "id": "0e21b023-5148-4493-bb13-87f168003981",
   "metadata": {},
   "outputs": [],
   "source": [
    "# df2cmap = df2.replace('Unknown',0)\n",
    "# df2cmap = df2cmap.replace('STAR',1)\n",
    "# df2cmap = df2cmap.replace('GALAXY',2)\n",
    "# df2cmap = df2cmap.replace('QSO',3)\n",
    "# df2cmap.value_counts()"
   ]
  },
  {
   "cell_type": "code",
   "execution_count": null,
   "id": "ba4ef4f4-1f4d-49dc-bfbd-92c400c9bda9",
   "metadata": {},
   "outputs": [],
   "source": [
    "# fig, ax = plt.subplots(figsize=(12,12));\n",
    "# cax = ax.scatter(embedding_joined[:, 0], embedding_joined[:, 1], c=df2cmap['Class'], cmap='Spectral', s=5);\n",
    "# ax.set_aspect('equal', 'datalim');\n",
    "# cbar = fig.colorbar(cax, boundaries=np.arange(5)-0.5, ticks=[0, 1, 2, 3]);\n",
    "# cbar.ax.set_yticklabels(['Unknown','Star','Galaxy','QSO']);\n",
    "# ax.set_title(\"SpecObjs Catalogue Left Joined onto Pristine Dataset, Coloured by SpecObjs Class\")\n",
    "# # plt.savefig('/arc/home/aydanmckay/pmspecobjsmappedtopristinecolours.png')"
   ]
  },
  {
   "cell_type": "code",
   "execution_count": null,
   "id": "66217b8e-2147-4f77-899d-9ece822b50ef",
   "metadata": {},
   "outputs": [],
   "source": [
    "# mask = df2cmap['Class'] != 0"
   ]
  },
  {
   "cell_type": "code",
   "execution_count": null,
   "id": "2043b035-6988-49ac-9765-e42a92abee9b",
   "metadata": {},
   "outputs": [],
   "source": [
    "# fig, ax = plt.subplots(figsize=(12,12));\n",
    "# cax = ax.scatter(embedding_joined[:, 0][mask], embedding_joined[:, 1][mask], c=df2cmap['Class'][mask], cmap='Spectral', s=5);\n",
    "# ax.set_aspect('equal', 'datalim');\n",
    "# cbar = fig.colorbar(cax, boundaries=np.arange(1,5)-0.5, ticks=[1, 2, 3]);\n",
    "# cbar.ax.set_yticklabels(['Star','Galaxy','QSO']);\n",
    "# ax.set_title(\"SpecObjs Catalogue Left Joined onto Pristine Dataset, Coloured by SpecObjs Class\");\n",
    "# plt.savefig('/arc/home/aydanmckay/pmspecobjsmappedtopristinecoloursnounknowns.png')"
   ]
  },
  {
   "cell_type": "code",
   "execution_count": null,
   "id": "442f4462-93d4-42cd-ba70-6d4b8cab4637",
   "metadata": {},
   "outputs": [],
   "source": [
    "# mask_afe = df2_afe['a/Fe'] > -9"
   ]
  },
  {
   "cell_type": "code",
   "execution_count": null,
   "id": "839b6823-5ad2-478f-a0ef-78753dacb16a",
   "metadata": {},
   "outputs": [],
   "source": [
    "# plt.figure(figsize=(12,12))\n",
    "# plt.scatter(embedding_joined_fe[:, 0][mask_afe], embedding_joined_fe[:, 1][mask_afe],c=df2_afe['a/Fe'][mask_afe], cmap='Spectral', s=5)\n",
    "# plt.axvline(-1)\n",
    "# plt.axhline(-1)\n",
    "# plt.gca().set_aspect('equal', 'datalim')\n",
    "# plt.colorbar()\n",
    "# plt.grid()\n",
    "# plt.title(r\"SpecObjs Catalogue Left Joined onto Pristine Dataset, Coloured by SSPP $\\alpha$/Fe\")\n",
    "# plt.savefig('/arc/home/aydanmckay/pmssppmappedtopristinecoloursafe.png')"
   ]
  },
  {
   "cell_type": "code",
   "execution_count": null,
   "id": "1cb6da3d-660d-4d5e-91c2-b942fcd05db1",
   "metadata": {},
   "outputs": [],
   "source": [
    "mask_feh = df2_feh['Fe/H'] > -9"
   ]
  },
  {
   "cell_type": "code",
   "execution_count": null,
   "id": "633f5bf1-99c7-494b-b713-b0d7b008ab55",
   "metadata": {},
   "outputs": [],
   "source": [
    "plt.figure(figsize=(12,12))\n",
    "plt.scatter(embedding[:, 0], embedding[:, 1], c='k', alpha=0.1, s=5)\n",
    "plt.scatter(embedding_joined_fe[:, 0][mask_feh], embedding_joined_fe[:, 1][mask_feh],c=df2_feh['Fe/H'][mask_feh], cmap='Spectral', s=5)\n",
    "plt.gca().set_aspect('equal', 'datalim')\n",
    "plt.colorbar()\n",
    "plt.title(\"SDSS DR17 Catalogue Left Joined onto Pristine Dataset, Coloured by SEGUE Fe/H\")\n",
    "plt.savefig('/arc/home/aydanmckay/pmssppmappedtopristinecoloursoverplot.png')"
   ]
  },
  {
   "cell_type": "code",
   "execution_count": null,
   "id": "19225d1a-f3b0-4531-b71f-7485baa3198a",
   "metadata": {},
   "outputs": [],
   "source": [
    "sm_ll_feh = []\n",
    "sm_ll_logg = []\n",
    "sm_ll_teff = []\n",
    "for x,y,feh,logg,teff in zip(embedding_joined_fe[:, 0][mask_feh],embedding_joined_fe[:, 1][mask_feh],\n",
    "                             df2_feh['Fe/H'][mask_feh],df2_logg['logg'][mask_feh],df2_teff['Teff'][mask_feh]):\n",
    "    if x < -1 and y < -1:\n",
    "        sm_ll_feh.append(feh)\n",
    "        sm_ll_logg.append(logg)\n",
    "        sm_ll_teff.append(teff)"
   ]
  },
  {
   "cell_type": "code",
   "execution_count": null,
   "id": "dff4b92a-68da-4f33-8251-02347d829075",
   "metadata": {},
   "outputs": [],
   "source": [
    "plt.scatter(sm_ll_teff,sm_ll_logg)\n",
    "plt.title('Effective Temperature vs. logg on the Small Low Metallicity Blob')\n",
    "plt.xlabel('Effective temperature')\n",
    "plt.ylabel('logg')\n",
    "plt.grid()\n",
    "plt.savefig('teffloggblob.png')"
   ]
  },
  {
   "cell_type": "code",
   "execution_count": null,
   "id": "4f9cfb54-6d43-4ee0-a06e-e9bd71191ddb",
   "metadata": {},
   "outputs": [],
   "source": [
    "plt.scatter(sm_ll_logg,sm_ll_feh)\n",
    "plt.title('logg vs. Metallicity on the Small Low Metallicity Blob')\n",
    "plt.ylabel('Metallicity')\n",
    "plt.xlabel('logg')\n",
    "plt.grid()\n",
    "plt.savefig('loggfehblob.png')"
   ]
  },
  {
   "cell_type": "code",
   "execution_count": null,
   "id": "ba489db6-2bb5-4372-afef-f41a531e4d87",
   "metadata": {},
   "outputs": [],
   "source": [
    "# len(df2_logg['logg'][mask_feh])"
   ]
  },
  {
   "cell_type": "code",
   "execution_count": null,
   "id": "0b5c759c-6de9-441f-b797-77fd1ef77edf",
   "metadata": {},
   "outputs": [],
   "source": [
    "# len(df2_feh['Fe/H'][mask_feh])"
   ]
  },
  {
   "cell_type": "code",
   "execution_count": null,
   "id": "8f200cf4-48c3-4738-bc5e-0959b3519bcb",
   "metadata": {},
   "outputs": [],
   "source": [
    "# len(embedding_joined_fe[:, 0][mask_feh])"
   ]
  },
  {
   "cell_type": "code",
   "execution_count": null,
   "id": "0f989aed-802b-4663-85cc-0d4cfd3afb99",
   "metadata": {},
   "outputs": [],
   "source": []
  }
 ],
 "metadata": {
  "kernelspec": {
   "display_name": "Python 3 (ipykernel)",
   "language": "python",
   "name": "python3"
  },
  "language_info": {
   "codemirror_mode": {
    "name": "ipython",
    "version": 3
   },
   "file_extension": ".py",
   "mimetype": "text/x-python",
   "name": "python",
   "nbconvert_exporter": "python",
   "pygments_lexer": "ipython3",
   "version": "3.9.10"
  }
 },
 "nbformat": 4,
 "nbformat_minor": 5
}
