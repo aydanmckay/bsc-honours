{
 "cells": [
  {
   "cell_type": "markdown",
   "id": "95184123-37d0-43db-9c3d-af0fba5a1a90",
   "metadata": {},
   "source": [
    "https://machinelearningcompass.com/machine_learning_models/ridge_regression/"
   ]
  },
  {
   "cell_type": "markdown",
   "id": "44152952-1ac7-4ed2-8171-5669c48eb092",
   "metadata": {},
   "source": [
    "https://github.com/HeroKillerEver/coursera-deep-learning/blob/master/Improving%20Deep%20Neural%20Networks-Hyperparameter%20tuning%2C%20Regularization%20and%20Optimization/Tensorflow/tf_utils.py\n",
    "https://github.com/Kulbear/deep-learning-coursera/blob/master/Improving%20Deep%20Neural%20Networks%20Hyperparameter%20tuning,%20Regularization%20and%20Optimization/Tensorflow%20Tutorial.ipynb"
   ]
  },
  {
   "cell_type": "code",
   "execution_count": 4,
   "id": "83498cd6-b020-4a6f-949e-b82ed73fb7ec",
   "metadata": {},
   "outputs": [],
   "source": [
    "import pandas as pd\n",
    "import numpy as np\n",
    "import umap\n",
    "from sklearn.preprocessing import StandardScaler\n",
    "import matplotlib.pyplot as plt\n",
    "import vaex\n",
    "vaex.multithreading.thread_count_default = 8\n",
    "import vaex.ml"
   ]
  },
  {
   "cell_type": "code",
   "execution_count": 5,
   "id": "3e896959-a604-458d-b74b-d2cf236f4ee3",
   "metadata": {},
   "outputs": [
    {
     "data": {
      "text/plain": [
       "-9999.000000    72482\n",
       "-0.970938          18\n",
       "-1.623412           4\n",
       "-1.229497           4\n",
       "-0.572936           4\n",
       "                ...  \n",
       "-0.712517           1\n",
       "-0.535879           1\n",
       "-0.693920           1\n",
       "-0.543458           1\n",
       "-0.124109           1\n",
       "Name: FEH_ADOP_s, Length: 37961, dtype: int64"
      ]
     },
     "execution_count": 5,
     "metadata": {},
     "output_type": "execute_result"
    }
   ],
   "source": [
    "sspp = pd.read_csv('/arc/home/aydanmckay/leftjoinpristinesspplamostlrsmilliquas.csv',\n",
    "                   usecols=[\"CaHK_0_p\",\"pmra_1_p\",\"pmdec_1_p\",\"g_chp_psf_p\",\"r_chp_psf_p\",\"i_chp_psf_p\",\"z_chp_psf_p\",\"y_chp_psf_p\",\"MAG_AUTO_p\",\n",
    "                            \"phot_g_mean_mag_1_p\",\"phot_bp_mean_mag_1_p\",\"phot_rp_mean_mag_1_p\",\"AFE_s\",\"FEH_ADOP_s\",\"RA_q\"])\n",
    "sspp.FEH_ADOP_s.value_counts()"
   ]
  },
  {
   "cell_type": "code",
   "execution_count": 6,
   "id": "648524d3-0401-431d-88e2-d7e79f3b0740",
   "metadata": {},
   "outputs": [
    {
     "data": {
      "text/plain": [
       "-0.970938    18\n",
       "-2.234864     4\n",
       "-0.572936     4\n",
       "-0.623528     4\n",
       "-0.563320     4\n",
       "             ..\n",
       "-0.508577     1\n",
       "-0.527734     1\n",
       "-0.489074     1\n",
       "-0.139976     1\n",
       "-0.124109     1\n",
       "Name: FEH_ADOP_s, Length: 37562, dtype: int64"
      ]
     },
     "execution_count": 6,
     "metadata": {},
     "output_type": "execute_result"
    }
   ],
   "source": [
    "# Gonna add a parameter which removes all of the pristine sources except the intercept with sspp for testing the algorithm.\n",
    "sspp = sspp.loc[(sspp[\"g_chp_psf_p\"] < 1e19) & (sspp[\"r_chp_psf_p\"] < 1e19) & (sspp[\"i_chp_psf_p\"] < 1e19) & \\\n",
    "                        (sspp[\"z_chp_psf_p\"] < 1e19) & (sspp[\"y_chp_psf_p\"] < 1e19) & (sspp[\"MAG_AUTO_p\"] < 95) & \\\n",
    "                        (np.isnan(sspp[\"pmra_1_p\"]) == False) & (np.isnan(sspp[\"pmdec_1_p\"]) == False) & \\\n",
    "                        (np.isnan(sspp[\"phot_g_mean_mag_1_p\"]) == False) & (np.isnan(sspp[\"phot_bp_mean_mag_1_p\"]) == False) & \\\n",
    "                        (np.isnan(sspp[\"phot_rp_mean_mag_1_p\"]) == False) & (np.isnan(sspp['RA_q']) == True) & (sspp['FEH_ADOP_s'] > -9000)]\n",
    "# remove this later for semi supervised: (sspp['FEH_ADOP_s'] > -9000)\n",
    "sspp.FEH_ADOP_s.value_counts()"
   ]
  },
  {
   "cell_type": "code",
   "execution_count": 7,
   "id": "133b861d-7dd6-49df-8b9f-44ed832a92e9",
   "metadata": {},
   "outputs": [],
   "source": [
    "# df = sspp.sample(n=10000)\n",
    "df = sspp"
   ]
  },
  {
   "cell_type": "code",
   "execution_count": 21,
   "id": "000aaa7b-0421-42b5-815a-efc31c73bf07",
   "metadata": {},
   "outputs": [],
   "source": [
    "df_joined = pd.DataFrame({'PMRA': df['pmra_1_p'],\n",
    "                   'PMDec': df['pmdec_1_p'],\n",
    "                   'G_gaia': df[\"CaHK_0_p\"]-df['phot_g_mean_mag_1_p'],\n",
    "                   'B_gaia': df[\"CaHK_0_p\"]-df['phot_bp_mean_mag_1_p'],\n",
    "                   'R_gaia': df[\"CaHK_0_p\"]-df['phot_rp_mean_mag_1_p'],\n",
    "                   'G_pan': df[\"CaHK_0_p\"]-df['g_chp_psf_p'],\n",
    "                   'R_pan': df[\"CaHK_0_p\"]-df['r_chp_psf_p'],\n",
    "                   'I_pan': df[\"CaHK_0_p\"]-df['i_chp_psf_p'],\n",
    "                   'Z_pan': df[\"CaHK_0_p\"]-df['z_chp_psf_p'],\n",
    "                   'Y_pan': df[\"CaHK_0_p\"]-df['y_chp_psf_p'],\n",
    "                   'AUTO_cfis': df[\"CaHK_0_p\"]-df['MAG_AUTO_p']})\n",
    "df2 = pd.DataFrame({'feh': df['FEH_ADOP_s']})"
   ]
  },
  {
   "cell_type": "code",
   "execution_count": 22,
   "id": "868eb1ef-d147-4aca-9500-6ab8afc3410c",
   "metadata": {},
   "outputs": [
    {
     "name": "stdout",
     "output_type": "stream",
     "text": [
      "(38345, 11)\n",
      "(38345, 11)\n"
     ]
    }
   ],
   "source": [
    "print(df_joined.shape)\n",
    "df_joined = df_joined.dropna()\n",
    "print(df_joined.shape)\n",
    "print(df2.shape)\n",
    "df2 = df2.dropna()\n",
    "print(df2.shape)"
   ]
  },
  {
   "cell_type": "code",
   "execution_count": 23,
   "id": "0ae3c93e-aca8-4f15-9e0f-2d575f98d8ee",
   "metadata": {},
   "outputs": [
    {
     "data": {
      "text/plain": [
       "0.39503529826688777"
      ]
     },
     "execution_count": 23,
     "metadata": {},
     "output_type": "execute_result"
    }
   ],
   "source": [
    "from sklearn.linear_model import Ridge\n",
    "# import numpy as np\n",
    "# n_samples, n_features = 10000, 11\n",
    "# rng = np.random.RandomState(0)\n",
    "y = df2.to_numpy()\n",
    "X = df_joined.to_numpy()\n",
    "rdg = Ridge(alpha = 0.5)\n",
    "rdg.fit(X, y)\n",
    "rdg.score(X,y)"
   ]
  },
  {
   "cell_type": "code",
   "execution_count": 34,
   "id": "d3745d65-12dd-4cec-97b8-f8b0f55f6679",
   "metadata": {},
   "outputs": [],
   "source": [
    "from sklearn.model_selection import train_test_split\n",
    "X_train, X_test, y_train, y_test = train_test_split(X, y,random_state=42)"
   ]
  },
  {
   "cell_type": "code",
   "execution_count": 35,
   "id": "9d8dce68-4b56-4251-bcda-26dad2d2011e",
   "metadata": {},
   "outputs": [],
   "source": [
    "def normal_equation_ridge_regression(X,y,alpha):\n",
    "    intercept_ones = np.ones((len(X),1))        # results in array( [ [1],..,[1] ] )\n",
    "    X_b = np.c_[intercept_ones,X]               # we now add the additional ones as a new column to our X\n",
    "    I = np.identity(X_b.shape[1])               # identity matrix with dimensions (n+1)\n",
    "    I[0][0] = 0                                 # adjusting the first value in I to be 0, to account for the intercept term\n",
    "    theta_optimal = np.linalg.inv(X_b.T.dot(X_b) + alpha * I).dot(X_b.T).dot(y) # the normal equation\n",
    "    return theta_optimal"
   ]
  },
  {
   "cell_type": "code",
   "execution_count": 36,
   "id": "913d904d-35b0-4896-bce3-ca42a01988a3",
   "metadata": {},
   "outputs": [
    {
     "name": "stdout",
     "output_type": "stream",
     "text": [
      "[[-3.13866272]\n",
      " [ 0.00572218]\n",
      " [ 0.01432658]\n",
      " [-1.18015404]\n",
      " [-1.1600985 ]\n",
      " [ 1.41058647]\n",
      " [ 1.95692455]\n",
      " [ 1.74003805]\n",
      " [-0.02996776]\n",
      " [-0.93826163]\n",
      " [-0.81649381]\n",
      " [-0.87807621]]\n"
     ]
    }
   ],
   "source": [
    "theta_ridge_ne_1 = normal_equation_ridge_regression(X_train, y_train, 1)\n",
    "print(theta_ridge_ne_1)\n",
    "# output: [44.35714286 -2.76190476]"
   ]
  },
  {
   "cell_type": "code",
   "execution_count": 37,
   "id": "a36c8b9d-122e-468c-8c93-8b5d50cfefdf",
   "metadata": {},
   "outputs": [
    {
     "name": "stdout",
     "output_type": "stream",
     "text": [
      "[array([-3.13866272])\n",
      " array([ 0.00572218,  0.01432658, -1.18015404, -1.1600985 ,  1.41058647,\n",
      "         1.95692455,  1.74003805, -0.02996776, -0.93826163, -0.81649381,\n",
      "        -0.87807621])                                                   ]\n"
     ]
    },
    {
     "name": "stderr",
     "output_type": "stream",
     "text": [
      "/tmp/ipykernel_5382/2342277115.py:3: VisibleDeprecationWarning: Creating an ndarray from ragged nested sequences (which is a list-or-tuple of lists-or-tuples-or ndarrays with different lengths or shapes) is deprecated. If you meant to do this, you must specify 'dtype=object' when creating the ndarray.\n",
      "  theta_ridge_ne_2 = np.array([ridge.intercept_, ridge.coef_[0]])\n"
     ]
    }
   ],
   "source": [
    "ridge = Ridge()  # same as Ridge(alpha=1)\n",
    "ridge.fit(X_train, y_train, 1)\n",
    "theta_ridge_ne_2 = np.array([ridge.intercept_, ridge.coef_[0]])\n",
    "print(theta_ridge_ne_2)\n",
    "# output: [44.35714286 -2.76190476]"
   ]
  },
  {
   "cell_type": "code",
   "execution_count": 43,
   "id": "1bc9037f-54ba-4452-a29f-bbd95bc542db",
   "metadata": {},
   "outputs": [
    {
     "data": {
      "text/plain": [
       "<matplotlib.legend.Legend at 0x7f8e5431cdf0>"
      ]
     },
     "execution_count": 43,
     "metadata": {},
     "output_type": "execute_result"
    },
    {
     "data": {
      "image/png": "[encoded data removed]",
      "text/plain": [
       "<Figure size 432x288 with 1 Axes>"
      ]
     },
     "metadata": {
      "needs_background": "light"
     },
     "output_type": "display_data"
    }
   ],
   "source": [
    "X_interval = np.array([np.min(X), np.max(X)]) # we'll use these points to plot our linear functions\n",
    "\n",
    "plt.plot(X_train, y_train, \"s\", markersize=12, label=\"train data\")\n",
    "plt.plot(X_test, y_test, \".\", markersize=15, label=\"test data\")\n",
    "\n",
    "# plt.plot(X_interval, ols.predict(X_interval), label=\"ols\")\n",
    "# plt.plot(X_interval, ridge.predict(X_interval) ,label=\"ridge\")\n",
    "plt.legend()"
   ]
  },
  {
   "cell_type": "code",
   "execution_count": 44,
   "id": "d66f0ac2-235f-4fbf-8302-740444a3314f",
   "metadata": {},
   "outputs": [],
   "source": [
    "def gradient_descent(X, y, theta, criterion, number_of_iterations, learning_rate):\n",
    "    X_b = add_intercept_ones(X)\n",
    "    loss_history=[]\n",
    "    for i in range(number_of_iterations):\n",
    "\n",
    "        # predict and calculate loss\n",
    "        f = create_function(theta) # create the current function\n",
    "        y_predicted = f(X_b) # predict our entire x\n",
    "        loss = criterion(y,y_predicted) # calculate the error\n",
    "        loss_history.append(loss)\n",
    "\n",
    "        # perform optimization\n",
    "        gradient = np.array([mse_derivative_b(y,y_predicted), mse_derivative_m(x,y,y_predicted)]) # calculate gradient\n",
    "        theta = theta - learning_rate * gradient #adjust m and b\n",
    "\n",
    "        if i%10==0:\n",
    "            print(\"Current Epoch: {}, Current Loss: {}\".format(i,loss))\n",
    "\n",
    "    return theta,loss_history\n"
   ]
  },
  {
   "cell_type": "code",
   "execution_count": 45,
   "id": "c00ecd9b-ea0f-4482-9a87-faba04c1a812",
   "metadata": {},
   "outputs": [],
   "source": [
    "def mse(y, y_predicted):\n",
    "    error = y-y_predicted\n",
    "    loss = 1/(y.size) * np.dot(error.T, error)\n",
    "    return loss\n",
    "\n",
    "def ridgeMSE(y, y_predicted, alpha, theta):\n",
    "    mse = mse(y, y_predicted)\n",
    "    ridge_mse = mse(y, y_predicted) + alpha * np.dot(theta,theta)\n",
    "    return ridge_mse\n"
   ]
  },
  {
   "cell_type": "code",
   "execution_count": 46,
   "id": "7616f0d5-7a7f-4dc1-8b65-cca8bb8ed524",
   "metadata": {},
   "outputs": [],
   "source": [
    "def getRidgeMSEFunction(alpha=0.0001):\n",
    "\n",
    "    def ridgeMSE(y, y_predicted, theta):\n",
    "        mse_loss = mse(y, y_predicted)\n",
    "        ridge_loss = mse_loss + alpha * np.dot(theta,theta)\n",
    "        return ridge_loss\n",
    "\n",
    "    return ridgeMSE\n"
   ]
  },
  {
   "cell_type": "code",
   "execution_count": 47,
   "id": "94b16bd2-fb4c-40bc-b83c-bdb5240977e8",
   "metadata": {},
   "outputs": [],
   "source": [
    "def getRidgeGradientFunction(alpha=0.0001):\n",
    "\n",
    "    def ridgeGradient(X_b, y, y_pred, theta):\n",
    "        return  -(2/y.size) * X_b.T.dot((y - y_pred)) + alpha * theta\n",
    "\n",
    "    return ridgeGradient\n"
   ]
  },
  {
   "cell_type": "code",
   "execution_count": 48,
   "id": "11be379e-8322-4be2-b2e2-f62cd618ec62",
   "metadata": {},
   "outputs": [],
   "source": [
    "def gradientDescent(X, y, theta, criterion, gradientFunction, number_of_iterations, learning_rate):\n",
    "    X_b = add_intercept_ones(X)\n",
    "    for i in range(number_of_iterations):\n",
    "\n",
    "        # predict and calculate loss\n",
    "        f = create_function(theta)               # create the current function\n",
    "        y_predicted = X_b.dot(theta)             # predict our entire x\n",
    "        loss = criterion(y, y_predicted, theta)  # calculate loss\n",
    "\n",
    "        # perform optimization\n",
    "        gradient = gradientFunction(X_b, y, y_predicted, theta) # compute gradient\n",
    "        theta = theta - learning_rate * gradient                # adjust theta\n",
    "\n",
    "    return theta\n"
   ]
  },
  {
   "cell_type": "code",
   "execution_count": 50,
   "id": "5916f208-138a-4230-a217-9a19deb8728c",
   "metadata": {},
   "outputs": [
    {
     "ename": "NameError",
     "evalue": "name 'add_intercept_ones' is not defined",
     "output_type": "error",
     "traceback": [
      "\u001b[0;31m---------------------------------------------------------------------------\u001b[0m",
      "\u001b[0;31mNameError\u001b[0m                                 Traceback (most recent call last)",
      "\u001b[0;32m/tmp/ipykernel_5382/2581811244.py\u001b[0m in \u001b[0;36m<module>\u001b[0;34m\u001b[0m\n\u001b[0;32m----> 1\u001b[0;31m theta_ridge_gd_1 = gradientDescent(X_train, y_train, 1, getRidgeMSEFunction(0.0001),\n\u001b[0m\u001b[1;32m      2\u001b[0m                                             getRidgeGradientFunction(0.0001), 1000, 0.03)\n\u001b[1;32m      3\u001b[0m \u001b[0mprint\u001b[0m\u001b[0;34m(\u001b[0m\u001b[0mtheta_ridge_gd_1\u001b[0m\u001b[0;34m)\u001b[0m\u001b[0;34m\u001b[0m\u001b[0;34m\u001b[0m\u001b[0m\n\u001b[1;32m      4\u001b[0m \u001b[0;31m# output: [44.41801778 -3.11386069]\u001b[0m\u001b[0;34m\u001b[0m\u001b[0;34m\u001b[0m\u001b[0;34m\u001b[0m\u001b[0m\n",
      "\u001b[0;32m/tmp/ipykernel_5382/757029847.py\u001b[0m in \u001b[0;36mgradientDescent\u001b[0;34m(X, y, theta, criterion, gradientFunction, number_of_iterations, learning_rate)\u001b[0m\n\u001b[1;32m      1\u001b[0m \u001b[0;32mdef\u001b[0m \u001b[0mgradientDescent\u001b[0m\u001b[0;34m(\u001b[0m\u001b[0mX\u001b[0m\u001b[0;34m,\u001b[0m \u001b[0my\u001b[0m\u001b[0;34m,\u001b[0m \u001b[0mtheta\u001b[0m\u001b[0;34m,\u001b[0m \u001b[0mcriterion\u001b[0m\u001b[0;34m,\u001b[0m \u001b[0mgradientFunction\u001b[0m\u001b[0;34m,\u001b[0m \u001b[0mnumber_of_iterations\u001b[0m\u001b[0;34m,\u001b[0m \u001b[0mlearning_rate\u001b[0m\u001b[0;34m)\u001b[0m\u001b[0;34m:\u001b[0m\u001b[0;34m\u001b[0m\u001b[0;34m\u001b[0m\u001b[0m\n\u001b[0;32m----> 2\u001b[0;31m     \u001b[0mX_b\u001b[0m \u001b[0;34m=\u001b[0m \u001b[0madd_intercept_ones\u001b[0m\u001b[0;34m(\u001b[0m\u001b[0mX\u001b[0m\u001b[0;34m)\u001b[0m\u001b[0;34m\u001b[0m\u001b[0;34m\u001b[0m\u001b[0m\n\u001b[0m\u001b[1;32m      3\u001b[0m     \u001b[0;32mfor\u001b[0m \u001b[0mi\u001b[0m \u001b[0;32min\u001b[0m \u001b[0mrange\u001b[0m\u001b[0;34m(\u001b[0m\u001b[0mnumber_of_iterations\u001b[0m\u001b[0;34m)\u001b[0m\u001b[0;34m:\u001b[0m\u001b[0;34m\u001b[0m\u001b[0;34m\u001b[0m\u001b[0m\n\u001b[1;32m      4\u001b[0m \u001b[0;34m\u001b[0m\u001b[0m\n\u001b[1;32m      5\u001b[0m         \u001b[0;31m# predict and calculate loss\u001b[0m\u001b[0;34m\u001b[0m\u001b[0;34m\u001b[0m\u001b[0;34m\u001b[0m\u001b[0m\n",
      "\u001b[0;31mNameError\u001b[0m: name 'add_intercept_ones' is not defined"
     ]
    }
   ],
   "source": [
    "theta_ridge_gd_1 = gradientDescent(X_train, y_train, 1, getRidgeMSEFunction(0.0001),\n",
    "                                            getRidgeGradientFunction(0.0001), 1000, 0.03)\n",
    "print(theta_ridge_gd_1)\n",
    "# output: [44.41801778 -3.11386069]\n"
   ]
  },
  {
   "cell_type": "code",
   "execution_count": null,
   "id": "38839e1b-b5f6-44a6-a27a-3befbce8fcc4",
   "metadata": {},
   "outputs": [],
   "source": [
    "plt.plot(X_train, y_train, \"s\", markersize=12, label=\"train data\")\n",
    "plt.plot(X_test, y_test, \".\", markersize=15, label=\"test data\")\n",
    "\n",
    "plt.plot(X, X_b.dot(theta_ridge_gd_1), label=\"ridge gd\")\n",
    "plt.plot(X, X_b.dot(theta_ridge_ne_1), label=\"ridge ne\")\n",
    "plt.legend()\n",
    "plt.show()\n"
   ]
  },
  {
   "cell_type": "code",
   "execution_count": null,
   "id": "3b7bf169-76f0-4836-99d8-123cb9a2e75a",
   "metadata": {},
   "outputs": [],
   "source": [
    "sgdreg_ridge = SGDRegressor(penalty=\"l2\", learning_rate=\"constant\", eta0=0.001, max_iter=10000, random_state=42)\n",
    "sgdreg_ridge.fit(X_train,y_train)\n",
    "theta_ridge_gd_2 = np.array([sgdreg_ridge.intercept_[0], sgdreg_ridge.coef_[0]])\n",
    "print(theta_ridge_gd_2)\n",
    "# output: [43.1764243 -2.0467813]\n"
   ]
  },
  {
   "cell_type": "code",
   "execution_count": null,
   "id": "7c8099d4-be6e-4698-9ed8-2dfc77137c8c",
   "metadata": {},
   "outputs": [],
   "source": [
    "X_days = X * 365 # let's ignore leap years for now\n"
   ]
  },
  {
   "cell_type": "code",
   "execution_count": null,
   "id": "d65ba4bd-d5f0-46d2-b294-9f30e7a11249",
   "metadata": {},
   "outputs": [],
   "source": [
    "print(theta_ridge_ne_1)\n",
    "# output: [44.36 -2.76]\n",
    "print(theta_ols_ne_1)\n",
    "# output: [ 54.3 -11.6]"
   ]
  },
  {
   "cell_type": "code",
   "execution_count": null,
   "id": "d2ee6b80-2a6d-471f-999d-07764c81747c",
   "metadata": {},
   "outputs": [],
   "source": [
    "print(theta_ols_days_ne)\n",
    "# output: [54.3        -0.03178082]\n",
    "print(theta_ridge_days_ne)\n",
    "# output: [54.29968655 -0.03178006]"
   ]
  },
  {
   "cell_type": "code",
   "execution_count": null,
   "id": "62dff724-f2bc-4c52-bcc0-50e7ae968f7a",
   "metadata": {},
   "outputs": [],
   "source": [
    "X_days = X / 10\n"
   ]
  },
  {
   "cell_type": "code",
   "execution_count": null,
   "id": "63550483-0e3a-46b4-9dfe-90749fe0f67d",
   "metadata": {},
   "outputs": [],
   "source": [
    "print(theta_ols_decades_ne)\n",
    "# output: [  54.3 -116. ]\n",
    "print(theta_ridge_decades_ne)\n",
    "# output: [41.29065421 -0.36137072]\n"
   ]
  },
  {
   "cell_type": "code",
   "execution_count": null,
   "id": "6c95431b-8deb-47a5-9c0c-4994bf099af8",
   "metadata": {},
   "outputs": [],
   "source": [
    "ridge_cv = RidgeCV(alphas=[0.1, 1.0, 10])\n",
    "ridge_cv.fit(X_train, y_train)\n",
    "print(ridge_cv.alpha_)\n",
    "# output: 0.1\n"
   ]
  }
 ],
 "metadata": {
  "kernelspec": {
   "display_name": "Python 3 (ipykernel)",
   "language": "python",
   "name": "python3"
  },
  "language_info": {
   "codemirror_mode": {
    "name": "ipython",
    "version": 3
   },
   "file_extension": ".py",
   "mimetype": "text/x-python",
   "name": "python",
   "nbconvert_exporter": "python",
   "pygments_lexer": "ipython3",
   "version": "3.8.12"
  }
 },
 "nbformat": 4,
 "nbformat_minor": 5
}
