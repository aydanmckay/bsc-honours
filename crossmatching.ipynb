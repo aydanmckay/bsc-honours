{
 "cells": [
  {
   "cell_type": "code",
   "execution_count": 1,
   "metadata": {},
   "outputs": [],
   "source": [
    "import numpy as np\n",
    "from astropy.table import Table"
   ]
  },
  {
   "cell_type": "code",
   "execution_count": 3,
   "metadata": {},
   "outputs": [],
   "source": [
    "lamost = Table.read('/arc/projects/k-pop/catalogues/lamost-lrs-dr7v2.fits.gz')"
   ]
  },
  {
   "cell_type": "code",
   "execution_count": 7,
   "metadata": {},
   "outputs": [
    {
     "data": {
      "text/html": [
       "<div><i>Table length=10431197</i>\n",
       "<table id=\"table140561405770192\" class=\"table-striped table-bordered table-condensed\">\n",
       "<thead><tr><th>obsid</th><th>designation</th><th>obsdate</th><th>lmjd</th><th>mjd</th><th>planid</th><th>spid</th><th>fiberid</th><th>ra_obs</th><th>dec_obs</th><th>snru</th><th>snrg</th><th>snrr</th><th>snri</th><th>snrz</th><th>objtype</th><th>class</th><th>subclass</th><th>z</th><th>z_err</th><th>magtype</th><th>mag1</th><th>mag2</th><th>mag3</th><th>mag4</th><th>mag5</th><th>mag6</th><th>mag7</th><th>tsource</th><th>fibertype</th><th>tfrom</th><th>tcomment</th><th>offsets</th><th>offsets_v</th><th>ra</th><th>dec</th><th>fibermask</th><th>gaia_source_id</th><th>gaia_g_mean_mag</th></tr></thead>\n",
       "<thead><tr><th></th><th></th><th></th><th></th><th></th><th></th><th></th><th></th><th>deg</th><th>deg</th><th></th><th></th><th></th><th></th><th></th><th></th><th></th><th></th><th></th><th></th><th></th><th>mag</th><th>mag</th><th>mag</th><th>mag</th><th>mag</th><th>mag</th><th>mag</th><th></th><th></th><th></th><th></th><th></th><th></th><th>deg</th><th>deg</th><th></th><th></th><th>mag</th></tr></thead>\n",
       "<thead><tr><th>int32</th><th>bytes19</th><th>bytes10</th><th>int32</th><th>int32</th><th>bytes40</th><th>int16</th><th>int16</th><th>float64</th><th>float64</th><th>float32</th><th>float32</th><th>float32</th><th>float32</th><th>float32</th><th>bytes16</th><th>bytes20</th><th>bytes20</th><th>float32</th><th>float32</th><th>bytes25</th><th>float32</th><th>float32</th><th>float32</th><th>float32</th><th>float32</th><th>float32</th><th>float32</th><th>bytes16</th><th>bytes10</th><th>bytes60</th><th>bytes60</th><th>int16</th><th>float32</th><th>float64</th><th>float64</th><th>int16</th><th>bytes25</th><th>float32</th></tr></thead>\n",
       "<tr><td>101001</td><td>J220848.54-020324.3</td><td>2011-10-24</td><td>55859</td><td>55858</td><td>F5902</td><td>1</td><td>1</td><td>332</td><td>-2</td><td>0.70</td><td>12.22</td><td>27.16</td><td>36.14</td><td>21.07</td><td>Star</td><td>STAR</td><td>G7</td><td>-0</td><td>0</td><td>ugriz</td><td>18.78</td><td>17.12</td><td>16.42</td><td>16.15</td><td>15.97</td><td>99.00</td><td>99.00</td><td>JF_LEGAS_S</td><td>Obj</td><td>-</td><td>.</td><td>0</td><td>0.000</td><td>332</td><td>-2</td><td>2</td><td>2676862492063809792</td><td>16.46839523</td></tr>\n",
       "<tr><td>101002</td><td>J220953.17-020506.0</td><td>2011-10-24</td><td>55859</td><td>55858</td><td>F5902</td><td>1</td><td>2</td><td>332</td><td>-2</td><td>0.23</td><td>3.84</td><td>20.02</td><td>33.87</td><td>21.58</td><td>Star</td><td>STAR</td><td>K7</td><td>0</td><td>0</td><td>ugriz</td><td>20.91</td><td>18.10</td><td>16.66</td><td>16.05</td><td>15.67</td><td>99.00</td><td>99.00</td><td>JF_LEGAS_S</td><td>Obj</td><td>-</td><td>.</td><td>0</td><td>0.000</td><td>332</td><td>-2</td><td>0</td><td>2676109292239283200</td><td>16.62334251</td></tr>\n",
       "<tr><td>101005</td><td>J221008.50-020659.1</td><td>2011-10-24</td><td>55859</td><td>55858</td><td>F5902</td><td>1</td><td>5</td><td>333</td><td>-2</td><td>0.71</td><td>8.08</td><td>16.76</td><td>23.27</td><td>12.09</td><td>Star</td><td>STAR</td><td>G0</td><td>-0</td><td>0</td><td>ugriz</td><td>18.87</td><td>17.58</td><td>17.00</td><td>16.79</td><td>16.64</td><td>99.00</td><td>99.00</td><td>JF_LEGAS_S</td><td>Obj</td><td>-</td><td>.</td><td>0</td><td>0.000</td><td>333</td><td>-2</td><td>0</td><td>2676108501965287552</td><td>17.03433418</td></tr>\n",
       "<tr><td>101007</td><td>J221003.01-015029.0</td><td>2011-10-24</td><td>55859</td><td>55858</td><td>F5902</td><td>1</td><td>7</td><td>333</td><td>-2</td><td>0.27</td><td>0.24</td><td>1.57</td><td>9.25</td><td>8.62</td><td>Star</td><td>STAR</td><td>dM4</td><td>-0</td><td>0</td><td>ugriz</td><td>22.89</td><td>20.09</td><td>18.57</td><td>17.35</td><td>16.72</td><td>99.00</td><td>99.00</td><td>JF_LEGAS_S</td><td>Obj</td><td>-</td><td>.</td><td>0</td><td>0.000</td><td>333</td><td>-2</td><td>8</td><td>2676873345446200064</td><td>18.12011719</td></tr>\n",
       "<tr><td>101008</td><td>J220928.49-015720.7</td><td>2011-10-24</td><td>55859</td><td>55858</td><td>F5902</td><td>1</td><td>8</td><td>332</td><td>-2</td><td>1.21</td><td>20.64</td><td>37.99</td><td>48.37</td><td>27.99</td><td>Star</td><td>STAR</td><td>F9</td><td>0</td><td>0</td><td>ugriz</td><td>18.25</td><td>16.64</td><td>15.97</td><td>15.77</td><td>15.64</td><td>99.00</td><td>99.00</td><td>JF_LEGAS_S</td><td>Obj</td><td>-</td><td>.</td><td>0</td><td>0.000</td><td>332</td><td>-2</td><td>0</td><td>2676865000324707584</td><td>16.03927040</td></tr>\n",
       "<tr><td>101009</td><td>J220849.59-015207.1</td><td>2011-10-24</td><td>55859</td><td>55858</td><td>F5902</td><td>1</td><td>9</td><td>332</td><td>-2</td><td>1.23</td><td>12.63</td><td>25.05</td><td>32.80</td><td>17.69</td><td>Star</td><td>STAR</td><td>G0</td><td>-0</td><td>0</td><td>ugriz</td><td>18.64</td><td>17.19</td><td>16.63</td><td>16.37</td><td>16.25</td><td>99.00</td><td>99.00</td><td>JF_LEGAS_S</td><td>Obj</td><td>-</td><td>.</td><td>0</td><td>0.000</td><td>332</td><td>-2</td><td>0</td><td>2676870051206263808</td><td>16.64173698</td></tr>\n",
       "<tr><td>101010</td><td>J220934.11-015156.0</td><td>2011-10-24</td><td>55859</td><td>55858</td><td>F5902</td><td>1</td><td>10</td><td>332</td><td>-2</td><td>0.32</td><td>0.66</td><td>2.16</td><td>3.85</td><td>1.91</td><td>Star</td><td>Unknown</td><td>Non</td><td>-9999</td><td>-9999</td><td>ugriz</td><td>21.11</td><td>19.65</td><td>18.91</td><td>18.59</td><td>18.34</td><td>99.00</td><td>99.00</td><td>JF_LEGAS_S</td><td>Obj</td><td>-</td><td>.</td><td>0</td><td>0.000</td><td>332</td><td>-2</td><td>0</td><td>2676872280294388352</td><td>18.94351387</td></tr>\n",
       "<tr><td>101012</td><td>J220930.82-020351.8</td><td>2011-10-24</td><td>55859</td><td>55858</td><td>F5902</td><td>1</td><td>12</td><td>332</td><td>-2</td><td>0.31</td><td>0.67</td><td>2.09</td><td>3.48</td><td>2.24</td><td>Star</td><td>STAR</td><td>G7</td><td>-0</td><td>0</td><td>ugriz</td><td>20.90</td><td>19.46</td><td>18.82</td><td>18.53</td><td>18.42</td><td>99.00</td><td>99.00</td><td>JF_LEGAS_S</td><td>Obj</td><td>-</td><td>.</td><td>0</td><td>0.000</td><td>332</td><td>-2</td><td>0</td><td>2676112620839071488</td><td>18.85251236</td></tr>\n",
       "<tr><td>101013</td><td>J220917.16-020719.2</td><td>2011-10-24</td><td>55859</td><td>55858</td><td>F5902</td><td>1</td><td>13</td><td>332</td><td>-2</td><td>0.71</td><td>5.56</td><td>8.79</td><td>9.13</td><td>4.67</td><td>Star</td><td>STAR</td><td>A2</td><td>-0</td><td>0</td><td>ugriz</td><td>19.04</td><td>17.80</td><td>17.71</td><td>17.78</td><td>17.79</td><td>99.00</td><td>99.00</td><td>JF_LEGAS_S</td><td>Obj</td><td>-</td><td>.</td><td>0</td><td>0.000</td><td>332</td><td>-2</td><td>0</td><td>2676110353096307712</td><td>17.70454407</td></tr>\n",
       "<tr><td>...</td><td>...</td><td>...</td><td>...</td><td>...</td><td>...</td><td>...</td><td>...</td><td>...</td><td>...</td><td>...</td><td>...</td><td>...</td><td>...</td><td>...</td><td>...</td><td>...</td><td>...</td><td>...</td><td>...</td><td>...</td><td>...</td><td>...</td><td>...</td><td>...</td><td>...</td><td>...</td><td>...</td><td>...</td><td>...</td><td>...</td><td>...</td><td>...</td><td>...</td><td>...</td><td>...</td><td>...</td><td>...</td><td>...</td></tr>\n",
       "<tr><td>27502150</td><td>J101715.61+285750.4</td><td>2012-01-11</td><td>55938</td><td>55937</td><td>B5593804</td><td>2</td><td>150</td><td>154</td><td>29</td><td>0.00</td><td>4.76</td><td>27.29</td><td>23.13</td><td>22.55</td><td>Star</td><td>STAR</td><td>K1</td><td>-0</td><td>0</td><td>ugrizjh</td><td>99.00</td><td>99.00</td><td>12.70</td><td>99.00</td><td>99.00</td><td>11.57</td><td>11.15</td><td>PILOT</td><td>Obj</td><td>-</td><td>-</td><td>0</td><td>0.000</td><td>154</td><td>29</td><td>0</td><td>0</td><td>0.00000000</td></tr>\n",
       "<tr><td>27502173</td><td>J101316.92+292919.5</td><td>2012-01-11</td><td>55938</td><td>55937</td><td>B5593804</td><td>2</td><td>173</td><td>153</td><td>29</td><td>4.30</td><td>8.89</td><td>12.03</td><td>10.12</td><td>9.39</td><td>Star</td><td>STAR</td><td>F9</td><td>-0</td><td>0</td><td>ugrizjh</td><td>16.60</td><td>14.85</td><td>14.25</td><td>14.08</td><td>14.01</td><td>13.05</td><td>12.77</td><td>PILOT</td><td>Obj</td><td>-</td><td>-</td><td>0</td><td>0.000</td><td>153</td><td>29</td><td>0</td><td>0</td><td>0.00000000</td></tr>\n",
       "<tr><td>27502117</td><td>J101858.72+284107.5</td><td>2012-01-11</td><td>55938</td><td>55937</td><td>B5593804</td><td>2</td><td>117</td><td>155</td><td>29</td><td>0.29</td><td>1.52</td><td>4.29</td><td>4.70</td><td>4.57</td><td>Star</td><td>STAR</td><td>G7</td><td>-0</td><td>0</td><td>ugrizjh</td><td>17.95</td><td>15.77</td><td>14.95</td><td>14.66</td><td>14.54</td><td>13.47</td><td>12.95</td><td>PILOT</td><td>Obj</td><td>-</td><td>-</td><td>0</td><td>0.000</td><td>155</td><td>29</td><td>0</td><td>0</td><td>0.00000000</td></tr>\n",
       "<tr><td>27502026</td><td>J101709.81+292503.1</td><td>2012-01-11</td><td>55938</td><td>55937</td><td>B5593804</td><td>2</td><td>26</td><td>154</td><td>29</td><td>6.19</td><td>3.25</td><td>5.84</td><td>4.91</td><td>4.82</td><td>Star</td><td>STAR</td><td>G5</td><td>-0</td><td>0</td><td>ugrizjh</td><td>18.38</td><td>15.98</td><td>15.04</td><td>14.77</td><td>14.67</td><td>13.59</td><td>13.00</td><td>PILOT</td><td>Obj</td><td>-</td><td>-</td><td>0</td><td>0.000</td><td>154</td><td>29</td><td>0</td><td>0</td><td>0.00000000</td></tr>\n",
       "<tr><td>27502036</td><td>J101603.30+291721.5</td><td>2012-01-11</td><td>55938</td><td>55937</td><td>B5593804</td><td>2</td><td>36</td><td>154</td><td>29</td><td>7.33</td><td>13.62</td><td>15.24</td><td>11.70</td><td>10.92</td><td>Star</td><td>STAR</td><td>G1</td><td>-0</td><td>0</td><td>ugrizjh</td><td>99.00</td><td>99.00</td><td>13.64</td><td>99.00</td><td>99.00</td><td>12.64</td><td>12.29</td><td>PILOT</td><td>Obj</td><td>-</td><td>-</td><td>0</td><td>0.000</td><td>154</td><td>29</td><td>0</td><td>0</td><td>0.00000000</td></tr>\n",
       "<tr><td>27502089</td><td>J101543.19+290042.1</td><td>2012-01-11</td><td>55938</td><td>55937</td><td>B5593804</td><td>2</td><td>89</td><td>154</td><td>29</td><td>1.69</td><td>5.19</td><td>4.78</td><td>4.88</td><td>3.66</td><td>Star</td><td>STAR</td><td>G2</td><td>0</td><td>0</td><td>ugrizjh</td><td>16.97</td><td>15.90</td><td>15.59</td><td>15.46</td><td>15.47</td><td>14.65</td><td>14.29</td><td>PILOT</td><td>Obj</td><td>-</td><td>-</td><td>0</td><td>0.000</td><td>154</td><td>29</td><td>0</td><td>0</td><td>0.00000000</td></tr>\n",
       "<tr><td>27502108</td><td>J101839.92+283327.6</td><td>2012-01-11</td><td>55938</td><td>55937</td><td>B5593804</td><td>2</td><td>108</td><td>155</td><td>29</td><td>0.57</td><td>2.41</td><td>6.82</td><td>7.71</td><td>7.52</td><td>Star</td><td>STAR</td><td>G7</td><td>-0</td><td>0</td><td>ugrizjh</td><td>18.87</td><td>16.52</td><td>15.51</td><td>15.09</td><td>15.02</td><td>13.96</td><td>13.40</td><td>PILOT</td><td>Obj</td><td>-</td><td>-</td><td>0</td><td>0.000</td><td>155</td><td>29</td><td>0</td><td>0</td><td>0.00000000</td></tr>\n",
       "<tr><td>27502123</td><td>J101829.68+284519.9</td><td>2012-01-11</td><td>55938</td><td>55937</td><td>B5593804</td><td>2</td><td>123</td><td>155</td><td>29</td><td>2.17</td><td>4.20</td><td>6.97</td><td>5.16</td><td>5.17</td><td>Star</td><td>STAR</td><td>G0</td><td>0</td><td>0</td><td>ugrizjh</td><td>15.78</td><td>14.58</td><td>14.16</td><td>14.00</td><td>13.98</td><td>13.13</td><td>12.83</td><td>PILOT</td><td>Obj</td><td>-</td><td>-</td><td>0</td><td>0.000</td><td>155</td><td>29</td><td>0</td><td>0</td><td>0.00000000</td></tr>\n",
       "<tr><td>27502222</td><td>J101702.48+284224.7</td><td>2012-01-11</td><td>55938</td><td>55937</td><td>B5593804</td><td>2</td><td>222</td><td>154</td><td>29</td><td>0.00</td><td>0.00</td><td>6.76</td><td>9.43</td><td>9.72</td><td>Star</td><td>Unknown</td><td>Non</td><td>-9999</td><td>-9999</td><td>ugrizjh</td><td>18.45</td><td>16.83</td><td>16.07</td><td>15.75</td><td>15.58</td><td>14.61</td><td>14.06</td><td>PILOT</td><td>Obj</td><td>-</td><td>-</td><td>0</td><td>0.000</td><td>154</td><td>29</td><td>0</td><td>0</td><td>0.00000000</td></tr>\n",
       "<tr><td>27502250</td><td>J101759.75+291014.1</td><td>2012-01-11</td><td>55938</td><td>55937</td><td>B5593804</td><td>2</td><td>250</td><td>154</td><td>29</td><td>10.15</td><td>13.84</td><td>31.20</td><td>29.20</td><td>31.31</td><td>Star</td><td>STAR</td><td>G3</td><td>0</td><td>0</td><td>ugrizjh</td><td>99.00</td><td>99.00</td><td>12.78</td><td>99.00</td><td>99.00</td><td>11.41</td><td>10.81</td><td>PILOT</td><td>Obj</td><td>-</td><td>-</td><td>0</td><td>0.000</td><td>154</td><td>29</td><td>0</td><td>0</td><td>0.00000000</td></tr>\n",
       "</table></div>"
      ],
      "text/plain": [
       "<Table length=10431197>\n",
       " obsid       designation     ...       gaia_source_id      gaia_g_mean_mag\n",
       "                             ...                                 mag      \n",
       " int32         bytes19       ...          bytes25              float32    \n",
       "-------- ------------------- ... ------------------------- ---------------\n",
       "  101001 J220848.54-020324.3 ...       2676862492063809792     16.46839523\n",
       "  101002 J220953.17-020506.0 ...       2676109292239283200     16.62334251\n",
       "  101005 J221008.50-020659.1 ...       2676108501965287552     17.03433418\n",
       "  101007 J221003.01-015029.0 ...       2676873345446200064     18.12011719\n",
       "  101008 J220928.49-015720.7 ...       2676865000324707584     16.03927040\n",
       "  101009 J220849.59-015207.1 ...       2676870051206263808     16.64173698\n",
       "  101010 J220934.11-015156.0 ...       2676872280294388352     18.94351387\n",
       "  101012 J220930.82-020351.8 ...       2676112620839071488     18.85251236\n",
       "  101013 J220917.16-020719.2 ...       2676110353096307712     17.70454407\n",
       "     ...                 ... ...                       ...             ...\n",
       "27502150 J101715.61+285750.4 ...                         0      0.00000000\n",
       "27502173 J101316.92+292919.5 ...                         0      0.00000000\n",
       "27502117 J101858.72+284107.5 ...                         0      0.00000000\n",
       "27502026 J101709.81+292503.1 ...                         0      0.00000000\n",
       "27502036 J101603.30+291721.5 ...                         0      0.00000000\n",
       "27502089 J101543.19+290042.1 ...                         0      0.00000000\n",
       "27502108 J101839.92+283327.6 ...                         0      0.00000000\n",
       "27502123 J101829.68+284519.9 ...                         0      0.00000000\n",
       "27502222 J101702.48+284224.7 ...                         0      0.00000000\n",
       "27502250 J101759.75+291014.1 ...                         0      0.00000000"
      ]
     },
     "execution_count": 7,
     "metadata": {},
     "output_type": "execute_result"
    }
   ],
   "source": [
    "lamost"
   ]
  },
  {
   "cell_type": "code",
   "execution_count": null,
   "metadata": {},
   "outputs": [],
   "source": []
  }
 ],
 "metadata": {
  "kernelspec": {
   "display_name": "Python 3 (ipykernel)",
   "language": "python",
   "name": "python3"
  },
  "language_info": {
   "codemirror_mode": {
    "name": "ipython",
    "version": 3
   },
   "file_extension": ".py",
   "mimetype": "text/x-python",
   "name": "python",
   "nbconvert_exporter": "python",
   "pygments_lexer": "ipython3",
   "version": "3.9.10"
  }
 },
 "nbformat": 4,
 "nbformat_minor": 4
}
